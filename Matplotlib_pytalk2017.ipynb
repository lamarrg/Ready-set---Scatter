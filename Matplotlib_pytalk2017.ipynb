{
 "cells": [
  {
   "cell_type": "markdown",
   "metadata": {
    "nbpresent": {
     "id": "40289586-db4d-4367-a50d-5a742c3772ae"
    }
   },
   "source": [
    "# Ready, Set.... Scatter!"
   ]
  },
  {
   "cell_type": "markdown",
   "metadata": {
    "nbpresent": {
     "id": "19316465-2fba-455f-9b2e-5d41da42ff9c"
    }
   },
   "source": [
    "# Introduction\n",
    "\n",
    "## *Matplotlib is a powerful library for data visualization. It has a huge number of plot types (histograms, scatter, pie, heatmap…), is very customizable and is integrated with Pandas and Numpy.  However, the default settings are not great, and the customization process can be frustrating.  The following notebook will give a little background information and a lot of examples on how to create great figures using matplotlib.  *"
   ]
  },
  {
   "cell_type": "markdown",
   "metadata": {
    "nbpresent": {
     "id": "980f5d65-fe43-4306-b22a-c40fd56d7606"
    }
   },
   "source": [
    "## Background and Basics:\n",
    "\n",
    "#### Matplotlib figures are composed of three layers:\n",
    "1. the Backend: the layer that interacts with the environment to render the image\n",
    "   (I will talk about this at the end)\n",
    "2. Artist layer: primatives(basic shapes like circle and square) and sets of containers with figures, subplots and axis objects (the documentation for this layer http://matplotlib.org/api/artist_api.html# )\n",
    "3. Scripting layer: how we(the programmer) interact with the artist and backend layers"
   ]
  },
  {
   "cell_type": "markdown",
   "metadata": {
    "nbpresent": {
     "id": "f8d909b8-0f21-484d-9f26-5d84308cfbcf"
    }
   },
   "source": [
    "### Imports"
   ]
  },
  {
   "cell_type": "code",
   "execution_count": 2,
   "metadata": {
    "collapsed": false,
    "nbpresent": {
     "id": "8eb1f8e3-52ba-4854-a9cc-d8d3dd4ce0d7"
    }
   },
   "outputs": [],
   "source": [
    "import matplotlib as mpl\n",
    "import matplotlib.pyplot as plt\n",
    "import numpy as np\n",
    "import pandas as pd"
   ]
  },
  {
   "cell_type": "markdown",
   "metadata": {
    "nbpresent": {
     "id": "507b85d4-747b-40ae-bb90-2b9711f1ec34"
    }
   },
   "source": [
    "### Jupyter notebook and matplotlib\n",
    "### * Jupyter notebook has a few magic commands that allow figures to be automatically rendered in a notebook *\n",
    "\n",
    "#### Creates a new figure  \n",
    "%matplotlib inline\n",
    "\n",
    "#### Creates interactive figures that are updated\n",
    "%matplotlib notebook\n",
    "\n",
    "#### Using something other than Jupyter notebook\n",
    "plt.show()"
   ]
  },
  {
   "cell_type": "markdown",
   "metadata": {
    "nbpresent": {
     "id": "705d2d1d-71c5-44c5-b22c-ee9015a93b2b"
    }
   },
   "source": [
    "## Anatomy of a Figure"
   ]
  },
  {
   "cell_type": "markdown",
   "metadata": {
    "nbpresent": {
     "id": "fb748526-0178-4caf-8114-6d74ea8b66e2"
    }
   },
   "source": [
    "There are three basic components to every figure:\n",
    "1. The Canvas: the blank square everything goes into\n",
    "2. The Subplot: data layer (e.g. scatter or histogram)\n",
    "3. The Axis: anything and everything to do with the axes"
   ]
  },
  {
   "cell_type": "markdown",
   "metadata": {
    "collapsed": false,
    "nbpresent": {
     "id": "f38a998c-500c-4b3d-9b0e-6112cbf63414"
    }
   },
   "source": [
    "#### Calling the figure method will create the Canvas"
   ]
  },
  {
   "cell_type": "code",
   "execution_count": 23,
   "metadata": {
    "collapsed": false,
    "nbpresent": {
     "id": "b9b3f48f-6764-40c4-a2aa-4276f9171675"
    }
   },
   "outputs": [],
   "source": [
    "%matplotlib notebook"
   ]
  },
  {
   "cell_type": "code",
   "execution_count": 24,
   "metadata": {
    "collapsed": false,
    "nbpresent": {
     "id": "166ea2f0-4073-4b1d-aff6-692a020ff3c6"
    },
    "scrolled": true
   },
   "outputs": [
    {
     "data": {
      "application/javascript": [
       "/* Put everything inside the global mpl namespace */\n",
       "window.mpl = {};\n",
       "\n",
       "\n",
       "mpl.get_websocket_type = function() {\n",
       "    if (typeof(WebSocket) !== 'undefined') {\n",
       "        return WebSocket;\n",
       "    } else if (typeof(MozWebSocket) !== 'undefined') {\n",
       "        return MozWebSocket;\n",
       "    } else {\n",
       "        alert('Your browser does not have WebSocket support.' +\n",
       "              'Please try Chrome, Safari or Firefox ≥ 6. ' +\n",
       "              'Firefox 4 and 5 are also supported but you ' +\n",
       "              'have to enable WebSockets in about:config.');\n",
       "    };\n",
       "}\n",
       "\n",
       "mpl.figure = function(figure_id, websocket, ondownload, parent_element) {\n",
       "    this.id = figure_id;\n",
       "\n",
       "    this.ws = websocket;\n",
       "\n",
       "    this.supports_binary = (this.ws.binaryType != undefined);\n",
       "\n",
       "    if (!this.supports_binary) {\n",
       "        var warnings = document.getElementById(\"mpl-warnings\");\n",
       "        if (warnings) {\n",
       "            warnings.style.display = 'block';\n",
       "            warnings.textContent = (\n",
       "                \"This browser does not support binary websocket messages. \" +\n",
       "                    \"Performance may be slow.\");\n",
       "        }\n",
       "    }\n",
       "\n",
       "    this.imageObj = new Image();\n",
       "\n",
       "    this.context = undefined;\n",
       "    this.message = undefined;\n",
       "    this.canvas = undefined;\n",
       "    this.rubberband_canvas = undefined;\n",
       "    this.rubberband_context = undefined;\n",
       "    this.format_dropdown = undefined;\n",
       "\n",
       "    this.image_mode = 'full';\n",
       "\n",
       "    this.root = $('<div/>');\n",
       "    this._root_extra_style(this.root)\n",
       "    this.root.attr('style', 'display: inline-block');\n",
       "\n",
       "    $(parent_element).append(this.root);\n",
       "\n",
       "    this._init_header(this);\n",
       "    this._init_canvas(this);\n",
       "    this._init_toolbar(this);\n",
       "\n",
       "    var fig = this;\n",
       "\n",
       "    this.waiting = false;\n",
       "\n",
       "    this.ws.onopen =  function () {\n",
       "            fig.send_message(\"supports_binary\", {value: fig.supports_binary});\n",
       "            fig.send_message(\"send_image_mode\", {});\n",
       "            if (mpl.ratio != 1) {\n",
       "                fig.send_message(\"set_dpi_ratio\", {'dpi_ratio': mpl.ratio});\n",
       "            }\n",
       "            fig.send_message(\"refresh\", {});\n",
       "        }\n",
       "\n",
       "    this.imageObj.onload = function() {\n",
       "            if (fig.image_mode == 'full') {\n",
       "                // Full images could contain transparency (where diff images\n",
       "                // almost always do), so we need to clear the canvas so that\n",
       "                // there is no ghosting.\n",
       "                fig.context.clearRect(0, 0, fig.canvas.width, fig.canvas.height);\n",
       "            }\n",
       "            fig.context.drawImage(fig.imageObj, 0, 0);\n",
       "        };\n",
       "\n",
       "    this.imageObj.onunload = function() {\n",
       "        this.ws.close();\n",
       "    }\n",
       "\n",
       "    this.ws.onmessage = this._make_on_message_function(this);\n",
       "\n",
       "    this.ondownload = ondownload;\n",
       "}\n",
       "\n",
       "mpl.figure.prototype._init_header = function() {\n",
       "    var titlebar = $(\n",
       "        '<div class=\"ui-dialog-titlebar ui-widget-header ui-corner-all ' +\n",
       "        'ui-helper-clearfix\"/>');\n",
       "    var titletext = $(\n",
       "        '<div class=\"ui-dialog-title\" style=\"width: 100%; ' +\n",
       "        'text-align: center; padding: 3px;\"/>');\n",
       "    titlebar.append(titletext)\n",
       "    this.root.append(titlebar);\n",
       "    this.header = titletext[0];\n",
       "}\n",
       "\n",
       "\n",
       "\n",
       "mpl.figure.prototype._canvas_extra_style = function(canvas_div) {\n",
       "\n",
       "}\n",
       "\n",
       "\n",
       "mpl.figure.prototype._root_extra_style = function(canvas_div) {\n",
       "\n",
       "}\n",
       "\n",
       "mpl.figure.prototype._init_canvas = function() {\n",
       "    var fig = this;\n",
       "\n",
       "    var canvas_div = $('<div/>');\n",
       "\n",
       "    canvas_div.attr('style', 'position: relative; clear: both; outline: 0');\n",
       "\n",
       "    function canvas_keyboard_event(event) {\n",
       "        return fig.key_event(event, event['data']);\n",
       "    }\n",
       "\n",
       "    canvas_div.keydown('key_press', canvas_keyboard_event);\n",
       "    canvas_div.keyup('key_release', canvas_keyboard_event);\n",
       "    this.canvas_div = canvas_div\n",
       "    this._canvas_extra_style(canvas_div)\n",
       "    this.root.append(canvas_div);\n",
       "\n",
       "    var canvas = $('<canvas/>');\n",
       "    canvas.addClass('mpl-canvas');\n",
       "    canvas.attr('style', \"left: 0; top: 0; z-index: 0; outline: 0\")\n",
       "\n",
       "    this.canvas = canvas[0];\n",
       "    this.context = canvas[0].getContext(\"2d\");\n",
       "\n",
       "    var backingStore = this.context.backingStorePixelRatio ||\n",
       "\tthis.context.webkitBackingStorePixelRatio ||\n",
       "\tthis.context.mozBackingStorePixelRatio ||\n",
       "\tthis.context.msBackingStorePixelRatio ||\n",
       "\tthis.context.oBackingStorePixelRatio ||\n",
       "\tthis.context.backingStorePixelRatio || 1;\n",
       "\n",
       "    mpl.ratio = (window.devicePixelRatio || 1) / backingStore;\n",
       "\n",
       "    var rubberband = $('<canvas/>');\n",
       "    rubberband.attr('style', \"position: absolute; left: 0; top: 0; z-index: 1;\")\n",
       "\n",
       "    var pass_mouse_events = true;\n",
       "\n",
       "    canvas_div.resizable({\n",
       "        start: function(event, ui) {\n",
       "            pass_mouse_events = false;\n",
       "        },\n",
       "        resize: function(event, ui) {\n",
       "            fig.request_resize(ui.size.width, ui.size.height);\n",
       "        },\n",
       "        stop: function(event, ui) {\n",
       "            pass_mouse_events = true;\n",
       "            fig.request_resize(ui.size.width, ui.size.height);\n",
       "        },\n",
       "    });\n",
       "\n",
       "    function mouse_event_fn(event) {\n",
       "        if (pass_mouse_events)\n",
       "            return fig.mouse_event(event, event['data']);\n",
       "    }\n",
       "\n",
       "    rubberband.mousedown('button_press', mouse_event_fn);\n",
       "    rubberband.mouseup('button_release', mouse_event_fn);\n",
       "    // Throttle sequential mouse events to 1 every 20ms.\n",
       "    rubberband.mousemove('motion_notify', mouse_event_fn);\n",
       "\n",
       "    rubberband.mouseenter('figure_enter', mouse_event_fn);\n",
       "    rubberband.mouseleave('figure_leave', mouse_event_fn);\n",
       "\n",
       "    canvas_div.on(\"wheel\", function (event) {\n",
       "        event = event.originalEvent;\n",
       "        event['data'] = 'scroll'\n",
       "        if (event.deltaY < 0) {\n",
       "            event.step = 1;\n",
       "        } else {\n",
       "            event.step = -1;\n",
       "        }\n",
       "        mouse_event_fn(event);\n",
       "    });\n",
       "\n",
       "    canvas_div.append(canvas);\n",
       "    canvas_div.append(rubberband);\n",
       "\n",
       "    this.rubberband = rubberband;\n",
       "    this.rubberband_canvas = rubberband[0];\n",
       "    this.rubberband_context = rubberband[0].getContext(\"2d\");\n",
       "    this.rubberband_context.strokeStyle = \"#000000\";\n",
       "\n",
       "    this._resize_canvas = function(width, height) {\n",
       "        // Keep the size of the canvas, canvas container, and rubber band\n",
       "        // canvas in synch.\n",
       "        canvas_div.css('width', width)\n",
       "        canvas_div.css('height', height)\n",
       "\n",
       "        canvas.attr('width', width * mpl.ratio);\n",
       "        canvas.attr('height', height * mpl.ratio);\n",
       "        canvas.attr('style', 'width: ' + width + 'px; height: ' + height + 'px;');\n",
       "\n",
       "        rubberband.attr('width', width);\n",
       "        rubberband.attr('height', height);\n",
       "    }\n",
       "\n",
       "    // Set the figure to an initial 600x600px, this will subsequently be updated\n",
       "    // upon first draw.\n",
       "    this._resize_canvas(600, 600);\n",
       "\n",
       "    // Disable right mouse context menu.\n",
       "    $(this.rubberband_canvas).bind(\"contextmenu\",function(e){\n",
       "        return false;\n",
       "    });\n",
       "\n",
       "    function set_focus () {\n",
       "        canvas.focus();\n",
       "        canvas_div.focus();\n",
       "    }\n",
       "\n",
       "    window.setTimeout(set_focus, 100);\n",
       "}\n",
       "\n",
       "mpl.figure.prototype._init_toolbar = function() {\n",
       "    var fig = this;\n",
       "\n",
       "    var nav_element = $('<div/>')\n",
       "    nav_element.attr('style', 'width: 100%');\n",
       "    this.root.append(nav_element);\n",
       "\n",
       "    // Define a callback function for later on.\n",
       "    function toolbar_event(event) {\n",
       "        return fig.toolbar_button_onclick(event['data']);\n",
       "    }\n",
       "    function toolbar_mouse_event(event) {\n",
       "        return fig.toolbar_button_onmouseover(event['data']);\n",
       "    }\n",
       "\n",
       "    for(var toolbar_ind in mpl.toolbar_items) {\n",
       "        var name = mpl.toolbar_items[toolbar_ind][0];\n",
       "        var tooltip = mpl.toolbar_items[toolbar_ind][1];\n",
       "        var image = mpl.toolbar_items[toolbar_ind][2];\n",
       "        var method_name = mpl.toolbar_items[toolbar_ind][3];\n",
       "\n",
       "        if (!name) {\n",
       "            // put a spacer in here.\n",
       "            continue;\n",
       "        }\n",
       "        var button = $('<button/>');\n",
       "        button.addClass('ui-button ui-widget ui-state-default ui-corner-all ' +\n",
       "                        'ui-button-icon-only');\n",
       "        button.attr('role', 'button');\n",
       "        button.attr('aria-disabled', 'false');\n",
       "        button.click(method_name, toolbar_event);\n",
       "        button.mouseover(tooltip, toolbar_mouse_event);\n",
       "\n",
       "        var icon_img = $('<span/>');\n",
       "        icon_img.addClass('ui-button-icon-primary ui-icon');\n",
       "        icon_img.addClass(image);\n",
       "        icon_img.addClass('ui-corner-all');\n",
       "\n",
       "        var tooltip_span = $('<span/>');\n",
       "        tooltip_span.addClass('ui-button-text');\n",
       "        tooltip_span.html(tooltip);\n",
       "\n",
       "        button.append(icon_img);\n",
       "        button.append(tooltip_span);\n",
       "\n",
       "        nav_element.append(button);\n",
       "    }\n",
       "\n",
       "    var fmt_picker_span = $('<span/>');\n",
       "\n",
       "    var fmt_picker = $('<select/>');\n",
       "    fmt_picker.addClass('mpl-toolbar-option ui-widget ui-widget-content');\n",
       "    fmt_picker_span.append(fmt_picker);\n",
       "    nav_element.append(fmt_picker_span);\n",
       "    this.format_dropdown = fmt_picker[0];\n",
       "\n",
       "    for (var ind in mpl.extensions) {\n",
       "        var fmt = mpl.extensions[ind];\n",
       "        var option = $(\n",
       "            '<option/>', {selected: fmt === mpl.default_extension}).html(fmt);\n",
       "        fmt_picker.append(option)\n",
       "    }\n",
       "\n",
       "    // Add hover states to the ui-buttons\n",
       "    $( \".ui-button\" ).hover(\n",
       "        function() { $(this).addClass(\"ui-state-hover\");},\n",
       "        function() { $(this).removeClass(\"ui-state-hover\");}\n",
       "    );\n",
       "\n",
       "    var status_bar = $('<span class=\"mpl-message\"/>');\n",
       "    nav_element.append(status_bar);\n",
       "    this.message = status_bar[0];\n",
       "}\n",
       "\n",
       "mpl.figure.prototype.request_resize = function(x_pixels, y_pixels) {\n",
       "    // Request matplotlib to resize the figure. Matplotlib will then trigger a resize in the client,\n",
       "    // which will in turn request a refresh of the image.\n",
       "    this.send_message('resize', {'width': x_pixels, 'height': y_pixels});\n",
       "}\n",
       "\n",
       "mpl.figure.prototype.send_message = function(type, properties) {\n",
       "    properties['type'] = type;\n",
       "    properties['figure_id'] = this.id;\n",
       "    this.ws.send(JSON.stringify(properties));\n",
       "}\n",
       "\n",
       "mpl.figure.prototype.send_draw_message = function() {\n",
       "    if (!this.waiting) {\n",
       "        this.waiting = true;\n",
       "        this.ws.send(JSON.stringify({type: \"draw\", figure_id: this.id}));\n",
       "    }\n",
       "}\n",
       "\n",
       "\n",
       "mpl.figure.prototype.handle_save = function(fig, msg) {\n",
       "    var format_dropdown = fig.format_dropdown;\n",
       "    var format = format_dropdown.options[format_dropdown.selectedIndex].value;\n",
       "    fig.ondownload(fig, format);\n",
       "}\n",
       "\n",
       "\n",
       "mpl.figure.prototype.handle_resize = function(fig, msg) {\n",
       "    var size = msg['size'];\n",
       "    if (size[0] != fig.canvas.width || size[1] != fig.canvas.height) {\n",
       "        fig._resize_canvas(size[0], size[1]);\n",
       "        fig.send_message(\"refresh\", {});\n",
       "    };\n",
       "}\n",
       "\n",
       "mpl.figure.prototype.handle_rubberband = function(fig, msg) {\n",
       "    var x0 = msg['x0'] / mpl.ratio;\n",
       "    var y0 = (fig.canvas.height - msg['y0']) / mpl.ratio;\n",
       "    var x1 = msg['x1'] / mpl.ratio;\n",
       "    var y1 = (fig.canvas.height - msg['y1']) / mpl.ratio;\n",
       "    x0 = Math.floor(x0) + 0.5;\n",
       "    y0 = Math.floor(y0) + 0.5;\n",
       "    x1 = Math.floor(x1) + 0.5;\n",
       "    y1 = Math.floor(y1) + 0.5;\n",
       "    var min_x = Math.min(x0, x1);\n",
       "    var min_y = Math.min(y0, y1);\n",
       "    var width = Math.abs(x1 - x0);\n",
       "    var height = Math.abs(y1 - y0);\n",
       "\n",
       "    fig.rubberband_context.clearRect(\n",
       "        0, 0, fig.canvas.width, fig.canvas.height);\n",
       "\n",
       "    fig.rubberband_context.strokeRect(min_x, min_y, width, height);\n",
       "}\n",
       "\n",
       "mpl.figure.prototype.handle_figure_label = function(fig, msg) {\n",
       "    // Updates the figure title.\n",
       "    fig.header.textContent = msg['label'];\n",
       "}\n",
       "\n",
       "mpl.figure.prototype.handle_cursor = function(fig, msg) {\n",
       "    var cursor = msg['cursor'];\n",
       "    switch(cursor)\n",
       "    {\n",
       "    case 0:\n",
       "        cursor = 'pointer';\n",
       "        break;\n",
       "    case 1:\n",
       "        cursor = 'default';\n",
       "        break;\n",
       "    case 2:\n",
       "        cursor = 'crosshair';\n",
       "        break;\n",
       "    case 3:\n",
       "        cursor = 'move';\n",
       "        break;\n",
       "    }\n",
       "    fig.rubberband_canvas.style.cursor = cursor;\n",
       "}\n",
       "\n",
       "mpl.figure.prototype.handle_message = function(fig, msg) {\n",
       "    fig.message.textContent = msg['message'];\n",
       "}\n",
       "\n",
       "mpl.figure.prototype.handle_draw = function(fig, msg) {\n",
       "    // Request the server to send over a new figure.\n",
       "    fig.send_draw_message();\n",
       "}\n",
       "\n",
       "mpl.figure.prototype.handle_image_mode = function(fig, msg) {\n",
       "    fig.image_mode = msg['mode'];\n",
       "}\n",
       "\n",
       "mpl.figure.prototype.updated_canvas_event = function() {\n",
       "    // Called whenever the canvas gets updated.\n",
       "    this.send_message(\"ack\", {});\n",
       "}\n",
       "\n",
       "// A function to construct a web socket function for onmessage handling.\n",
       "// Called in the figure constructor.\n",
       "mpl.figure.prototype._make_on_message_function = function(fig) {\n",
       "    return function socket_on_message(evt) {\n",
       "        if (evt.data instanceof Blob) {\n",
       "            /* FIXME: We get \"Resource interpreted as Image but\n",
       "             * transferred with MIME type text/plain:\" errors on\n",
       "             * Chrome.  But how to set the MIME type?  It doesn't seem\n",
       "             * to be part of the websocket stream */\n",
       "            evt.data.type = \"image/png\";\n",
       "\n",
       "            /* Free the memory for the previous frames */\n",
       "            if (fig.imageObj.src) {\n",
       "                (window.URL || window.webkitURL).revokeObjectURL(\n",
       "                    fig.imageObj.src);\n",
       "            }\n",
       "\n",
       "            fig.imageObj.src = (window.URL || window.webkitURL).createObjectURL(\n",
       "                evt.data);\n",
       "            fig.updated_canvas_event();\n",
       "            fig.waiting = false;\n",
       "            return;\n",
       "        }\n",
       "        else if (typeof evt.data === 'string' && evt.data.slice(0, 21) == \"data:image/png;base64\") {\n",
       "            fig.imageObj.src = evt.data;\n",
       "            fig.updated_canvas_event();\n",
       "            fig.waiting = false;\n",
       "            return;\n",
       "        }\n",
       "\n",
       "        var msg = JSON.parse(evt.data);\n",
       "        var msg_type = msg['type'];\n",
       "\n",
       "        // Call the  \"handle_{type}\" callback, which takes\n",
       "        // the figure and JSON message as its only arguments.\n",
       "        try {\n",
       "            var callback = fig[\"handle_\" + msg_type];\n",
       "        } catch (e) {\n",
       "            console.log(\"No handler for the '\" + msg_type + \"' message type: \", msg);\n",
       "            return;\n",
       "        }\n",
       "\n",
       "        if (callback) {\n",
       "            try {\n",
       "                // console.log(\"Handling '\" + msg_type + \"' message: \", msg);\n",
       "                callback(fig, msg);\n",
       "            } catch (e) {\n",
       "                console.log(\"Exception inside the 'handler_\" + msg_type + \"' callback:\", e, e.stack, msg);\n",
       "            }\n",
       "        }\n",
       "    };\n",
       "}\n",
       "\n",
       "// from http://stackoverflow.com/questions/1114465/getting-mouse-location-in-canvas\n",
       "mpl.findpos = function(e) {\n",
       "    //this section is from http://www.quirksmode.org/js/events_properties.html\n",
       "    var targ;\n",
       "    if (!e)\n",
       "        e = window.event;\n",
       "    if (e.target)\n",
       "        targ = e.target;\n",
       "    else if (e.srcElement)\n",
       "        targ = e.srcElement;\n",
       "    if (targ.nodeType == 3) // defeat Safari bug\n",
       "        targ = targ.parentNode;\n",
       "\n",
       "    // jQuery normalizes the pageX and pageY\n",
       "    // pageX,Y are the mouse positions relative to the document\n",
       "    // offset() returns the position of the element relative to the document\n",
       "    var x = e.pageX - $(targ).offset().left;\n",
       "    var y = e.pageY - $(targ).offset().top;\n",
       "\n",
       "    return {\"x\": x, \"y\": y};\n",
       "};\n",
       "\n",
       "/*\n",
       " * return a copy of an object with only non-object keys\n",
       " * we need this to avoid circular references\n",
       " * http://stackoverflow.com/a/24161582/3208463\n",
       " */\n",
       "function simpleKeys (original) {\n",
       "  return Object.keys(original).reduce(function (obj, key) {\n",
       "    if (typeof original[key] !== 'object')\n",
       "        obj[key] = original[key]\n",
       "    return obj;\n",
       "  }, {});\n",
       "}\n",
       "\n",
       "mpl.figure.prototype.mouse_event = function(event, name) {\n",
       "    var canvas_pos = mpl.findpos(event)\n",
       "\n",
       "    if (name === 'button_press')\n",
       "    {\n",
       "        this.canvas.focus();\n",
       "        this.canvas_div.focus();\n",
       "    }\n",
       "\n",
       "    var x = canvas_pos.x * mpl.ratio;\n",
       "    var y = canvas_pos.y * mpl.ratio;\n",
       "\n",
       "    this.send_message(name, {x: x, y: y, button: event.button,\n",
       "                             step: event.step,\n",
       "                             guiEvent: simpleKeys(event)});\n",
       "\n",
       "    /* This prevents the web browser from automatically changing to\n",
       "     * the text insertion cursor when the button is pressed.  We want\n",
       "     * to control all of the cursor setting manually through the\n",
       "     * 'cursor' event from matplotlib */\n",
       "    event.preventDefault();\n",
       "    return false;\n",
       "}\n",
       "\n",
       "mpl.figure.prototype._key_event_extra = function(event, name) {\n",
       "    // Handle any extra behaviour associated with a key event\n",
       "}\n",
       "\n",
       "mpl.figure.prototype.key_event = function(event, name) {\n",
       "\n",
       "    // Prevent repeat events\n",
       "    if (name == 'key_press')\n",
       "    {\n",
       "        if (event.which === this._key)\n",
       "            return;\n",
       "        else\n",
       "            this._key = event.which;\n",
       "    }\n",
       "    if (name == 'key_release')\n",
       "        this._key = null;\n",
       "\n",
       "    var value = '';\n",
       "    if (event.ctrlKey && event.which != 17)\n",
       "        value += \"ctrl+\";\n",
       "    if (event.altKey && event.which != 18)\n",
       "        value += \"alt+\";\n",
       "    if (event.shiftKey && event.which != 16)\n",
       "        value += \"shift+\";\n",
       "\n",
       "    value += 'k';\n",
       "    value += event.which.toString();\n",
       "\n",
       "    this._key_event_extra(event, name);\n",
       "\n",
       "    this.send_message(name, {key: value,\n",
       "                             guiEvent: simpleKeys(event)});\n",
       "    return false;\n",
       "}\n",
       "\n",
       "mpl.figure.prototype.toolbar_button_onclick = function(name) {\n",
       "    if (name == 'download') {\n",
       "        this.handle_save(this, null);\n",
       "    } else {\n",
       "        this.send_message(\"toolbar_button\", {name: name});\n",
       "    }\n",
       "};\n",
       "\n",
       "mpl.figure.prototype.toolbar_button_onmouseover = function(tooltip) {\n",
       "    this.message.textContent = tooltip;\n",
       "};\n",
       "mpl.toolbar_items = [[\"Home\", \"Reset original view\", \"fa fa-home icon-home\", \"home\"], [\"Back\", \"Back to  previous view\", \"fa fa-arrow-left icon-arrow-left\", \"back\"], [\"Forward\", \"Forward to next view\", \"fa fa-arrow-right icon-arrow-right\", \"forward\"], [\"\", \"\", \"\", \"\"], [\"Pan\", \"Pan axes with left mouse, zoom with right\", \"fa fa-arrows icon-move\", \"pan\"], [\"Zoom\", \"Zoom to rectangle\", \"fa fa-square-o icon-check-empty\", \"zoom\"], [\"\", \"\", \"\", \"\"], [\"Download\", \"Download plot\", \"fa fa-floppy-o icon-save\", \"download\"]];\n",
       "\n",
       "mpl.extensions = [\"eps\", \"jpeg\", \"pdf\", \"png\", \"ps\", \"raw\", \"svg\", \"tif\"];\n",
       "\n",
       "mpl.default_extension = \"png\";var comm_websocket_adapter = function(comm) {\n",
       "    // Create a \"websocket\"-like object which calls the given IPython comm\n",
       "    // object with the appropriate methods. Currently this is a non binary\n",
       "    // socket, so there is still some room for performance tuning.\n",
       "    var ws = {};\n",
       "\n",
       "    ws.close = function() {\n",
       "        comm.close()\n",
       "    };\n",
       "    ws.send = function(m) {\n",
       "        //console.log('sending', m);\n",
       "        comm.send(m);\n",
       "    };\n",
       "    // Register the callback with on_msg.\n",
       "    comm.on_msg(function(msg) {\n",
       "        //console.log('receiving', msg['content']['data'], msg);\n",
       "        // Pass the mpl event to the overriden (by mpl) onmessage function.\n",
       "        ws.onmessage(msg['content']['data'])\n",
       "    });\n",
       "    return ws;\n",
       "}\n",
       "\n",
       "mpl.mpl_figure_comm = function(comm, msg) {\n",
       "    // This is the function which gets called when the mpl process\n",
       "    // starts-up an IPython Comm through the \"matplotlib\" channel.\n",
       "\n",
       "    var id = msg.content.data.id;\n",
       "    // Get hold of the div created by the display call when the Comm\n",
       "    // socket was opened in Python.\n",
       "    var element = $(\"#\" + id);\n",
       "    var ws_proxy = comm_websocket_adapter(comm)\n",
       "\n",
       "    function ondownload(figure, format) {\n",
       "        window.open(figure.imageObj.src);\n",
       "    }\n",
       "\n",
       "    var fig = new mpl.figure(id, ws_proxy,\n",
       "                           ondownload,\n",
       "                           element.get(0));\n",
       "\n",
       "    // Call onopen now - mpl needs it, as it is assuming we've passed it a real\n",
       "    // web socket which is closed, not our websocket->open comm proxy.\n",
       "    ws_proxy.onopen();\n",
       "\n",
       "    fig.parent_element = element.get(0);\n",
       "    fig.cell_info = mpl.find_output_cell(\"<div id='\" + id + \"'></div>\");\n",
       "    if (!fig.cell_info) {\n",
       "        console.error(\"Failed to find cell for figure\", id, fig);\n",
       "        return;\n",
       "    }\n",
       "\n",
       "    var output_index = fig.cell_info[2]\n",
       "    var cell = fig.cell_info[0];\n",
       "\n",
       "};\n",
       "\n",
       "mpl.figure.prototype.handle_close = function(fig, msg) {\n",
       "    var width = fig.canvas.width/mpl.ratio\n",
       "    fig.root.unbind('remove')\n",
       "\n",
       "    // Update the output cell to use the data from the current canvas.\n",
       "    fig.push_to_output();\n",
       "    var dataURL = fig.canvas.toDataURL();\n",
       "    // Re-enable the keyboard manager in IPython - without this line, in FF,\n",
       "    // the notebook keyboard shortcuts fail.\n",
       "    IPython.keyboard_manager.enable()\n",
       "    $(fig.parent_element).html('<img src=\"' + dataURL + '\" width=\"' + width + '\">');\n",
       "    fig.close_ws(fig, msg);\n",
       "}\n",
       "\n",
       "mpl.figure.prototype.close_ws = function(fig, msg){\n",
       "    fig.send_message('closing', msg);\n",
       "    // fig.ws.close()\n",
       "}\n",
       "\n",
       "mpl.figure.prototype.push_to_output = function(remove_interactive) {\n",
       "    // Turn the data on the canvas into data in the output cell.\n",
       "    var width = this.canvas.width/mpl.ratio\n",
       "    var dataURL = this.canvas.toDataURL();\n",
       "    this.cell_info[1]['text/html'] = '<img src=\"' + dataURL + '\" width=\"' + width + '\">';\n",
       "}\n",
       "\n",
       "mpl.figure.prototype.updated_canvas_event = function() {\n",
       "    // Tell IPython that the notebook contents must change.\n",
       "    IPython.notebook.set_dirty(true);\n",
       "    this.send_message(\"ack\", {});\n",
       "    var fig = this;\n",
       "    // Wait a second, then push the new image to the DOM so\n",
       "    // that it is saved nicely (might be nice to debounce this).\n",
       "    setTimeout(function () { fig.push_to_output() }, 1000);\n",
       "}\n",
       "\n",
       "mpl.figure.prototype._init_toolbar = function() {\n",
       "    var fig = this;\n",
       "\n",
       "    var nav_element = $('<div/>')\n",
       "    nav_element.attr('style', 'width: 100%');\n",
       "    this.root.append(nav_element);\n",
       "\n",
       "    // Define a callback function for later on.\n",
       "    function toolbar_event(event) {\n",
       "        return fig.toolbar_button_onclick(event['data']);\n",
       "    }\n",
       "    function toolbar_mouse_event(event) {\n",
       "        return fig.toolbar_button_onmouseover(event['data']);\n",
       "    }\n",
       "\n",
       "    for(var toolbar_ind in mpl.toolbar_items){\n",
       "        var name = mpl.toolbar_items[toolbar_ind][0];\n",
       "        var tooltip = mpl.toolbar_items[toolbar_ind][1];\n",
       "        var image = mpl.toolbar_items[toolbar_ind][2];\n",
       "        var method_name = mpl.toolbar_items[toolbar_ind][3];\n",
       "\n",
       "        if (!name) { continue; };\n",
       "\n",
       "        var button = $('<button class=\"btn btn-default\" href=\"#\" title=\"' + name + '\"><i class=\"fa ' + image + ' fa-lg\"></i></button>');\n",
       "        button.click(method_name, toolbar_event);\n",
       "        button.mouseover(tooltip, toolbar_mouse_event);\n",
       "        nav_element.append(button);\n",
       "    }\n",
       "\n",
       "    // Add the status bar.\n",
       "    var status_bar = $('<span class=\"mpl-message\" style=\"text-align:right; float: right;\"/>');\n",
       "    nav_element.append(status_bar);\n",
       "    this.message = status_bar[0];\n",
       "\n",
       "    // Add the close button to the window.\n",
       "    var buttongrp = $('<div class=\"btn-group inline pull-right\"></div>');\n",
       "    var button = $('<button class=\"btn btn-mini btn-primary\" href=\"#\" title=\"Stop Interaction\"><i class=\"fa fa-power-off icon-remove icon-large\"></i></button>');\n",
       "    button.click(function (evt) { fig.handle_close(fig, {}); } );\n",
       "    button.mouseover('Stop Interaction', toolbar_mouse_event);\n",
       "    buttongrp.append(button);\n",
       "    var titlebar = this.root.find($('.ui-dialog-titlebar'));\n",
       "    titlebar.prepend(buttongrp);\n",
       "}\n",
       "\n",
       "mpl.figure.prototype._root_extra_style = function(el){\n",
       "    var fig = this\n",
       "    el.on(\"remove\", function(){\n",
       "\tfig.close_ws(fig, {});\n",
       "    });\n",
       "}\n",
       "\n",
       "mpl.figure.prototype._canvas_extra_style = function(el){\n",
       "    // this is important to make the div 'focusable\n",
       "    el.attr('tabindex', 0)\n",
       "    // reach out to IPython and tell the keyboard manager to turn it's self\n",
       "    // off when our div gets focus\n",
       "\n",
       "    // location in version 3\n",
       "    if (IPython.notebook.keyboard_manager) {\n",
       "        IPython.notebook.keyboard_manager.register_events(el);\n",
       "    }\n",
       "    else {\n",
       "        // location in version 2\n",
       "        IPython.keyboard_manager.register_events(el);\n",
       "    }\n",
       "\n",
       "}\n",
       "\n",
       "mpl.figure.prototype._key_event_extra = function(event, name) {\n",
       "    var manager = IPython.notebook.keyboard_manager;\n",
       "    if (!manager)\n",
       "        manager = IPython.keyboard_manager;\n",
       "\n",
       "    // Check for shift+enter\n",
       "    if (event.shiftKey && event.which == 13) {\n",
       "        this.canvas_div.blur();\n",
       "        // select the cell after this one\n",
       "        var index = IPython.notebook.find_cell_index(this.cell_info[0]);\n",
       "        IPython.notebook.select(index + 1);\n",
       "    }\n",
       "}\n",
       "\n",
       "mpl.figure.prototype.handle_save = function(fig, msg) {\n",
       "    fig.ondownload(fig, null);\n",
       "}\n",
       "\n",
       "\n",
       "mpl.find_output_cell = function(html_output) {\n",
       "    // Return the cell and output element which can be found *uniquely* in the notebook.\n",
       "    // Note - this is a bit hacky, but it is done because the \"notebook_saving.Notebook\"\n",
       "    // IPython event is triggered only after the cells have been serialised, which for\n",
       "    // our purposes (turning an active figure into a static one), is too late.\n",
       "    var cells = IPython.notebook.get_cells();\n",
       "    var ncells = cells.length;\n",
       "    for (var i=0; i<ncells; i++) {\n",
       "        var cell = cells[i];\n",
       "        if (cell.cell_type === 'code'){\n",
       "            for (var j=0; j<cell.output_area.outputs.length; j++) {\n",
       "                var data = cell.output_area.outputs[j];\n",
       "                if (data.data) {\n",
       "                    // IPython >= 3 moved mimebundle to data attribute of output\n",
       "                    data = data.data;\n",
       "                }\n",
       "                if (data['text/html'] == html_output) {\n",
       "                    return [cell, data, j];\n",
       "                }\n",
       "            }\n",
       "        }\n",
       "    }\n",
       "}\n",
       "\n",
       "// Register the function which deals with the matplotlib target/channel.\n",
       "// The kernel may be null if the page has been refreshed.\n",
       "if (IPython.notebook.kernel != null) {\n",
       "    IPython.notebook.kernel.comm_manager.register_target('matplotlib', mpl.mpl_figure_comm);\n",
       "}\n"
      ],
      "text/plain": [
       "<IPython.core.display.Javascript object>"
      ]
     },
     "metadata": {},
     "output_type": "display_data"
    },
    {
     "data": {
      "text/html": [
       "<img src=\"data:image/png;base64,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\" width=\"432\">"
      ],
      "text/plain": [
       "<IPython.core.display.HTML object>"
      ]
     },
     "metadata": {},
     "output_type": "display_data"
    }
   ],
   "source": [
    "# The Canvas\n",
    "\n",
    "fig = plt.figure() # creates an empty canvas"
   ]
  },
  {
   "cell_type": "code",
   "execution_count": 25,
   "metadata": {
    "collapsed": true,
    "nbpresent": {
     "id": "fb419ae5-02ac-4121-b5cd-2278799f4142"
    }
   },
   "outputs": [],
   "source": [
    "%matplotlib inline"
   ]
  },
  {
   "cell_type": "markdown",
   "metadata": {
    "nbpresent": {
     "id": "2967e392-9de5-491f-a71b-5d61b7bd865f"
    }
   },
   "source": [
    "## Subplots"
   ]
  },
  {
   "cell_type": "code",
   "execution_count": 26,
   "metadata": {
    "collapsed": true,
    "nbpresent": {
     "id": "c98cb714-04a8-44c4-97f8-bfbc469ee51d"
    }
   },
   "outputs": [],
   "source": [
    "x = [1,2,3,4]\n",
    "y = [1,4,8,10]"
   ]
  },
  {
   "cell_type": "code",
   "execution_count": 27,
   "metadata": {
    "collapsed": false,
    "nbpresent": {
     "id": "e1e8cd70-6fd9-4835-a94f-3eece9ed33ae"
    }
   },
   "outputs": [
    {
     "data": {
      "text/plain": [
       "<matplotlib.collections.PathCollection at 0x2092e358da0>"
      ]
     },
     "execution_count": 27,
     "metadata": {},
     "output_type": "execute_result"
    },
    {
     "data": {
      "image/png": "[encoded data removed]",
      "text/plain": [
       "<matplotlib.figure.Figure at 0x2092e2cf6d8>"
      ]
     },
     "metadata": {},
     "output_type": "display_data"
    }
   ],
   "source": [
    "# Scatter plot\n",
    "plt.scatter(x, y)"
   ]
  },
  {
   "cell_type": "code",
   "execution_count": 28,
   "metadata": {
    "collapsed": false,
    "nbpresent": {
     "id": "1de59ca1-8085-4633-8174-a16b9490ea33"
    }
   },
   "outputs": [
    {
     "data": {
      "text/plain": [
       "(array([ 1.,  0.,  0.,  1.,  0.,  0.,  1.,  0.,  0.,  1.]),\n",
       " array([ 1. ,  1.3,  1.6,  1.9,  2.2,  2.5,  2.8,  3.1,  3.4,  3.7,  4. ]),\n",
       " <a list of 10 Patch objects>)"
      ]
     },
     "execution_count": 28,
     "metadata": {},
     "output_type": "execute_result"
    },
    {
     "data": {
      "image/png": "[encoded data removed]",
      "text/plain": [
       "<matplotlib.figure.Figure at 0x2092e36f8d0>"
      ]
     },
     "metadata": {},
     "output_type": "display_data"
    }
   ],
   "source": [
    "# Histogram\n",
    "plt.hist(x)"
   ]
  },
  {
   "cell_type": "code",
   "execution_count": 29,
   "metadata": {
    "collapsed": false,
    "nbpresent": {
     "id": "73d70058-ac61-469e-9a06-5ab9bf68258f"
    }
   },
   "outputs": [
    {
     "data": {
      "text/plain": [
       "{'boxes': [<matplotlib.lines.Line2D at 0x2092b5216d8>],\n",
       " 'caps': [<matplotlib.lines.Line2D at 0x2092ca418d0>,\n",
       "  <matplotlib.lines.Line2D at 0x2092ce64358>],\n",
       " 'fliers': [<matplotlib.lines.Line2D at 0x2092c555ef0>],\n",
       " 'means': [],\n",
       " 'medians': [<matplotlib.lines.Line2D at 0x2092ce92c50>],\n",
       " 'whiskers': [<matplotlib.lines.Line2D at 0x2092cadc160>,\n",
       "  <matplotlib.lines.Line2D at 0x2092cd984a8>]}"
      ]
     },
     "execution_count": 29,
     "metadata": {},
     "output_type": "execute_result"
    },
    {
     "data": {
      "image/png": "[encoded data removed]",
      "text/plain": [
       "<matplotlib.figure.Figure at 0x2092e36fb70>"
      ]
     },
     "metadata": {},
     "output_type": "display_data"
    }
   ],
   "source": [
    "plt.boxplot(x)"
   ]
  },
  {
   "cell_type": "markdown",
   "metadata": {},
   "source": [
    "#### * This link takes you to a gallery with a lot of different kinds of subplot types http://matplotlib.org/gallery.html *"
   ]
  },
  {
   "cell_type": "markdown",
   "metadata": {
    "collapsed": true,
    "nbpresent": {
     "id": "8d609aa3-627b-4506-92c7-c3f5f54a3f6b"
    }
   },
   "source": [
    "## Customization"
   ]
  },
  {
   "cell_type": "markdown",
   "metadata": {
    "nbpresent": {
     "id": "7eac9f9e-28c1-496a-9f91-2c0b27a8fa6a"
    }
   },
   "source": [
    "### * Labels*"
   ]
  },
  {
   "cell_type": "code",
   "execution_count": 30,
   "metadata": {
    "collapsed": false,
    "nbpresent": {
     "id": "bd2b8599-886a-4e57-af7f-cb0fc787b140"
    }
   },
   "outputs": [
    {
     "data": {
      "text/plain": [
       "<matplotlib.legend.Legend at 0x2092e45ec50>"
      ]
     },
     "execution_count": 30,
     "metadata": {},
     "output_type": "execute_result"
    },
    {
     "data": {
      "image/png": "[encoded data removed]",
      "text/plain": [
       "<matplotlib.figure.Figure at 0x2092c610208>"
      ]
     },
     "metadata": {},
     "output_type": "display_data"
    }
   ],
   "source": [
    "# I'm using a scatter plot as an example, but the label methods will work for any plot type\n",
    "plt.scatter(x, y, label = \"Dots\")\n",
    "plt.xlabel('X_axis Label')\n",
    "plt.ylabel('Y_axis Label')\n",
    "plt.title('Figure Title')\n",
    "plt.legend(loc = 0, frameon= True, title = \"Legend Title\")\n"
   ]
  },
  {
   "cell_type": "markdown",
   "metadata": {
    "nbpresent": {
     "id": "f79b6982-9658-41e2-9251-c15409c18648"
    }
   },
   "source": [
    "### * subplot parameters*\n",
    "\n",
    "The parameters are pretty consistant, c is alway the color parameter, BUT unlike labels not all keyword arguments are valid for EVERY type of subplot. E.G. a pie chart doesn't have markers, so that keyword can't be used for pie plots"
   ]
  },
  {
   "cell_type": "code",
   "execution_count": 31,
   "metadata": {
    "collapsed": false,
    "nbpresent": {
     "id": "cd3b19d2-cf79-45d7-866d-4a989d20b2d2"
    }
   },
   "outputs": [
    {
     "data": {
      "text/plain": [
       "<matplotlib.collections.PathCollection at 0x2092e4ce438>"
      ]
     },
     "execution_count": 31,
     "metadata": {},
     "output_type": "execute_result"
    },
    {
     "data": {
      "image/png": "[encoded data removed]",
      "text/plain": [
       "<matplotlib.figure.Figure at 0x2092e417630>"
      ]
     },
     "metadata": {},
     "output_type": "display_data"
    }
   ],
   "source": [
    "# subplot parameters\n",
    "plt.scatter(x, y, marker = 'H', s=[100,200,300,400], c='lightslategray', label = \"Dots\")\n",
    "# marker types https://matplotlib.org/api/markers_api.html\n",
    "# s = size of marker\n",
    "# c = color , r -> red, b -> blue, g -> green\n",
    "#label = what the legend will label it as"
   ]
  },
  {
   "cell_type": "code",
   "execution_count": 32,
   "metadata": {
    "collapsed": false,
    "nbpresent": {
     "id": "01deeaf4-e933-4cc1-bddc-cad0a422d0fb"
    }
   },
   "outputs": [
    {
     "data": {
      "text/plain": [
       "[<matplotlib.lines.Line2D at 0x2092e53b978>]"
      ]
     },
     "execution_count": 32,
     "metadata": {},
     "output_type": "execute_result"
    },
    {
     "data": {
      "image/png": "[encoded data removed]",
      "text/plain": [
       "<matplotlib.figure.Figure at 0x2092e4f3710>"
      ]
     },
     "metadata": {},
     "output_type": "display_data"
    }
   ],
   "source": [
    "# another example \n",
    "plt.plot(x, y, linestyle='--', linewidth= 10, marker = None, c='R', label = \"lines\")\n",
    "\n",
    "# note: the default plot is the lineplot"
   ]
  },
  {
   "cell_type": "markdown",
   "metadata": {
    "nbpresent": {
     "id": "a891d493-c940-4c43-a62a-6d5c33180eec"
    }
   },
   "source": [
    "### * Axes *\n",
    "\n",
    "Okay, this is where it get a little convoluted"
   ]
  },
  {
   "cell_type": "code",
   "execution_count": 33,
   "metadata": {
    "collapsed": false,
    "nbpresent": {
     "id": "d3af1a32-90ed-4cc4-b26e-482198ae4fda"
    }
   },
   "outputs": [
    {
     "data": {
      "application/javascript": [
       "/* Put everything inside the global mpl namespace */\n",
       "window.mpl = {};\n",
       "\n",
       "\n",
       "mpl.get_websocket_type = function() {\n",
       "    if (typeof(WebSocket) !== 'undefined') {\n",
       "        return WebSocket;\n",
       "    } else if (typeof(MozWebSocket) !== 'undefined') {\n",
       "        return MozWebSocket;\n",
       "    } else {\n",
       "        alert('Your browser does not have WebSocket support.' +\n",
       "              'Please try Chrome, Safari or Firefox ≥ 6. ' +\n",
       "              'Firefox 4 and 5 are also supported but you ' +\n",
       "              'have to enable WebSockets in about:config.');\n",
       "    };\n",
       "}\n",
       "\n",
       "mpl.figure = function(figure_id, websocket, ondownload, parent_element) {\n",
       "    this.id = figure_id;\n",
       "\n",
       "    this.ws = websocket;\n",
       "\n",
       "    this.supports_binary = (this.ws.binaryType != undefined);\n",
       "\n",
       "    if (!this.supports_binary) {\n",
       "        var warnings = document.getElementById(\"mpl-warnings\");\n",
       "        if (warnings) {\n",
       "            warnings.style.display = 'block';\n",
       "            warnings.textContent = (\n",
       "                \"This browser does not support binary websocket messages. \" +\n",
       "                    \"Performance may be slow.\");\n",
       "        }\n",
       "    }\n",
       "\n",
       "    this.imageObj = new Image();\n",
       "\n",
       "    this.context = undefined;\n",
       "    this.message = undefined;\n",
       "    this.canvas = undefined;\n",
       "    this.rubberband_canvas = undefined;\n",
       "    this.rubberband_context = undefined;\n",
       "    this.format_dropdown = undefined;\n",
       "\n",
       "    this.image_mode = 'full';\n",
       "\n",
       "    this.root = $('<div/>');\n",
       "    this._root_extra_style(this.root)\n",
       "    this.root.attr('style', 'display: inline-block');\n",
       "\n",
       "    $(parent_element).append(this.root);\n",
       "\n",
       "    this._init_header(this);\n",
       "    this._init_canvas(this);\n",
       "    this._init_toolbar(this);\n",
       "\n",
       "    var fig = this;\n",
       "\n",
       "    this.waiting = false;\n",
       "\n",
       "    this.ws.onopen =  function () {\n",
       "            fig.send_message(\"supports_binary\", {value: fig.supports_binary});\n",
       "            fig.send_message(\"send_image_mode\", {});\n",
       "            if (mpl.ratio != 1) {\n",
       "                fig.send_message(\"set_dpi_ratio\", {'dpi_ratio': mpl.ratio});\n",
       "            }\n",
       "            fig.send_message(\"refresh\", {});\n",
       "        }\n",
       "\n",
       "    this.imageObj.onload = function() {\n",
       "            if (fig.image_mode == 'full') {\n",
       "                // Full images could contain transparency (where diff images\n",
       "                // almost always do), so we need to clear the canvas so that\n",
       "                // there is no ghosting.\n",
       "                fig.context.clearRect(0, 0, fig.canvas.width, fig.canvas.height);\n",
       "            }\n",
       "            fig.context.drawImage(fig.imageObj, 0, 0);\n",
       "        };\n",
       "\n",
       "    this.imageObj.onunload = function() {\n",
       "        this.ws.close();\n",
       "    }\n",
       "\n",
       "    this.ws.onmessage = this._make_on_message_function(this);\n",
       "\n",
       "    this.ondownload = ondownload;\n",
       "}\n",
       "\n",
       "mpl.figure.prototype._init_header = function() {\n",
       "    var titlebar = $(\n",
       "        '<div class=\"ui-dialog-titlebar ui-widget-header ui-corner-all ' +\n",
       "        'ui-helper-clearfix\"/>');\n",
       "    var titletext = $(\n",
       "        '<div class=\"ui-dialog-title\" style=\"width: 100%; ' +\n",
       "        'text-align: center; padding: 3px;\"/>');\n",
       "    titlebar.append(titletext)\n",
       "    this.root.append(titlebar);\n",
       "    this.header = titletext[0];\n",
       "}\n",
       "\n",
       "\n",
       "\n",
       "mpl.figure.prototype._canvas_extra_style = function(canvas_div) {\n",
       "\n",
       "}\n",
       "\n",
       "\n",
       "mpl.figure.prototype._root_extra_style = function(canvas_div) {\n",
       "\n",
       "}\n",
       "\n",
       "mpl.figure.prototype._init_canvas = function() {\n",
       "    var fig = this;\n",
       "\n",
       "    var canvas_div = $('<div/>');\n",
       "\n",
       "    canvas_div.attr('style', 'position: relative; clear: both; outline: 0');\n",
       "\n",
       "    function canvas_keyboard_event(event) {\n",
       "        return fig.key_event(event, event['data']);\n",
       "    }\n",
       "\n",
       "    canvas_div.keydown('key_press', canvas_keyboard_event);\n",
       "    canvas_div.keyup('key_release', canvas_keyboard_event);\n",
       "    this.canvas_div = canvas_div\n",
       "    this._canvas_extra_style(canvas_div)\n",
       "    this.root.append(canvas_div);\n",
       "\n",
       "    var canvas = $('<canvas/>');\n",
       "    canvas.addClass('mpl-canvas');\n",
       "    canvas.attr('style', \"left: 0; top: 0; z-index: 0; outline: 0\")\n",
       "\n",
       "    this.canvas = canvas[0];\n",
       "    this.context = canvas[0].getContext(\"2d\");\n",
       "\n",
       "    var backingStore = this.context.backingStorePixelRatio ||\n",
       "\tthis.context.webkitBackingStorePixelRatio ||\n",
       "\tthis.context.mozBackingStorePixelRatio ||\n",
       "\tthis.context.msBackingStorePixelRatio ||\n",
       "\tthis.context.oBackingStorePixelRatio ||\n",
       "\tthis.context.backingStorePixelRatio || 1;\n",
       "\n",
       "    mpl.ratio = (window.devicePixelRatio || 1) / backingStore;\n",
       "\n",
       "    var rubberband = $('<canvas/>');\n",
       "    rubberband.attr('style', \"position: absolute; left: 0; top: 0; z-index: 1;\")\n",
       "\n",
       "    var pass_mouse_events = true;\n",
       "\n",
       "    canvas_div.resizable({\n",
       "        start: function(event, ui) {\n",
       "            pass_mouse_events = false;\n",
       "        },\n",
       "        resize: function(event, ui) {\n",
       "            fig.request_resize(ui.size.width, ui.size.height);\n",
       "        },\n",
       "        stop: function(event, ui) {\n",
       "            pass_mouse_events = true;\n",
       "            fig.request_resize(ui.size.width, ui.size.height);\n",
       "        },\n",
       "    });\n",
       "\n",
       "    function mouse_event_fn(event) {\n",
       "        if (pass_mouse_events)\n",
       "            return fig.mouse_event(event, event['data']);\n",
       "    }\n",
       "\n",
       "    rubberband.mousedown('button_press', mouse_event_fn);\n",
       "    rubberband.mouseup('button_release', mouse_event_fn);\n",
       "    // Throttle sequential mouse events to 1 every 20ms.\n",
       "    rubberband.mousemove('motion_notify', mouse_event_fn);\n",
       "\n",
       "    rubberband.mouseenter('figure_enter', mouse_event_fn);\n",
       "    rubberband.mouseleave('figure_leave', mouse_event_fn);\n",
       "\n",
       "    canvas_div.on(\"wheel\", function (event) {\n",
       "        event = event.originalEvent;\n",
       "        event['data'] = 'scroll'\n",
       "        if (event.deltaY < 0) {\n",
       "            event.step = 1;\n",
       "        } else {\n",
       "            event.step = -1;\n",
       "        }\n",
       "        mouse_event_fn(event);\n",
       "    });\n",
       "\n",
       "    canvas_div.append(canvas);\n",
       "    canvas_div.append(rubberband);\n",
       "\n",
       "    this.rubberband = rubberband;\n",
       "    this.rubberband_canvas = rubberband[0];\n",
       "    this.rubberband_context = rubberband[0].getContext(\"2d\");\n",
       "    this.rubberband_context.strokeStyle = \"#000000\";\n",
       "\n",
       "    this._resize_canvas = function(width, height) {\n",
       "        // Keep the size of the canvas, canvas container, and rubber band\n",
       "        // canvas in synch.\n",
       "        canvas_div.css('width', width)\n",
       "        canvas_div.css('height', height)\n",
       "\n",
       "        canvas.attr('width', width * mpl.ratio);\n",
       "        canvas.attr('height', height * mpl.ratio);\n",
       "        canvas.attr('style', 'width: ' + width + 'px; height: ' + height + 'px;');\n",
       "\n",
       "        rubberband.attr('width', width);\n",
       "        rubberband.attr('height', height);\n",
       "    }\n",
       "\n",
       "    // Set the figure to an initial 600x600px, this will subsequently be updated\n",
       "    // upon first draw.\n",
       "    this._resize_canvas(600, 600);\n",
       "\n",
       "    // Disable right mouse context menu.\n",
       "    $(this.rubberband_canvas).bind(\"contextmenu\",function(e){\n",
       "        return false;\n",
       "    });\n",
       "\n",
       "    function set_focus () {\n",
       "        canvas.focus();\n",
       "        canvas_div.focus();\n",
       "    }\n",
       "\n",
       "    window.setTimeout(set_focus, 100);\n",
       "}\n",
       "\n",
       "mpl.figure.prototype._init_toolbar = function() {\n",
       "    var fig = this;\n",
       "\n",
       "    var nav_element = $('<div/>')\n",
       "    nav_element.attr('style', 'width: 100%');\n",
       "    this.root.append(nav_element);\n",
       "\n",
       "    // Define a callback function for later on.\n",
       "    function toolbar_event(event) {\n",
       "        return fig.toolbar_button_onclick(event['data']);\n",
       "    }\n",
       "    function toolbar_mouse_event(event) {\n",
       "        return fig.toolbar_button_onmouseover(event['data']);\n",
       "    }\n",
       "\n",
       "    for(var toolbar_ind in mpl.toolbar_items) {\n",
       "        var name = mpl.toolbar_items[toolbar_ind][0];\n",
       "        var tooltip = mpl.toolbar_items[toolbar_ind][1];\n",
       "        var image = mpl.toolbar_items[toolbar_ind][2];\n",
       "        var method_name = mpl.toolbar_items[toolbar_ind][3];\n",
       "\n",
       "        if (!name) {\n",
       "            // put a spacer in here.\n",
       "            continue;\n",
       "        }\n",
       "        var button = $('<button/>');\n",
       "        button.addClass('ui-button ui-widget ui-state-default ui-corner-all ' +\n",
       "                        'ui-button-icon-only');\n",
       "        button.attr('role', 'button');\n",
       "        button.attr('aria-disabled', 'false');\n",
       "        button.click(method_name, toolbar_event);\n",
       "        button.mouseover(tooltip, toolbar_mouse_event);\n",
       "\n",
       "        var icon_img = $('<span/>');\n",
       "        icon_img.addClass('ui-button-icon-primary ui-icon');\n",
       "        icon_img.addClass(image);\n",
       "        icon_img.addClass('ui-corner-all');\n",
       "\n",
       "        var tooltip_span = $('<span/>');\n",
       "        tooltip_span.addClass('ui-button-text');\n",
       "        tooltip_span.html(tooltip);\n",
       "\n",
       "        button.append(icon_img);\n",
       "        button.append(tooltip_span);\n",
       "\n",
       "        nav_element.append(button);\n",
       "    }\n",
       "\n",
       "    var fmt_picker_span = $('<span/>');\n",
       "\n",
       "    var fmt_picker = $('<select/>');\n",
       "    fmt_picker.addClass('mpl-toolbar-option ui-widget ui-widget-content');\n",
       "    fmt_picker_span.append(fmt_picker);\n",
       "    nav_element.append(fmt_picker_span);\n",
       "    this.format_dropdown = fmt_picker[0];\n",
       "\n",
       "    for (var ind in mpl.extensions) {\n",
       "        var fmt = mpl.extensions[ind];\n",
       "        var option = $(\n",
       "            '<option/>', {selected: fmt === mpl.default_extension}).html(fmt);\n",
       "        fmt_picker.append(option)\n",
       "    }\n",
       "\n",
       "    // Add hover states to the ui-buttons\n",
       "    $( \".ui-button\" ).hover(\n",
       "        function() { $(this).addClass(\"ui-state-hover\");},\n",
       "        function() { $(this).removeClass(\"ui-state-hover\");}\n",
       "    );\n",
       "\n",
       "    var status_bar = $('<span class=\"mpl-message\"/>');\n",
       "    nav_element.append(status_bar);\n",
       "    this.message = status_bar[0];\n",
       "}\n",
       "\n",
       "mpl.figure.prototype.request_resize = function(x_pixels, y_pixels) {\n",
       "    // Request matplotlib to resize the figure. Matplotlib will then trigger a resize in the client,\n",
       "    // which will in turn request a refresh of the image.\n",
       "    this.send_message('resize', {'width': x_pixels, 'height': y_pixels});\n",
       "}\n",
       "\n",
       "mpl.figure.prototype.send_message = function(type, properties) {\n",
       "    properties['type'] = type;\n",
       "    properties['figure_id'] = this.id;\n",
       "    this.ws.send(JSON.stringify(properties));\n",
       "}\n",
       "\n",
       "mpl.figure.prototype.send_draw_message = function() {\n",
       "    if (!this.waiting) {\n",
       "        this.waiting = true;\n",
       "        this.ws.send(JSON.stringify({type: \"draw\", figure_id: this.id}));\n",
       "    }\n",
       "}\n",
       "\n",
       "\n",
       "mpl.figure.prototype.handle_save = function(fig, msg) {\n",
       "    var format_dropdown = fig.format_dropdown;\n",
       "    var format = format_dropdown.options[format_dropdown.selectedIndex].value;\n",
       "    fig.ondownload(fig, format);\n",
       "}\n",
       "\n",
       "\n",
       "mpl.figure.prototype.handle_resize = function(fig, msg) {\n",
       "    var size = msg['size'];\n",
       "    if (size[0] != fig.canvas.width || size[1] != fig.canvas.height) {\n",
       "        fig._resize_canvas(size[0], size[1]);\n",
       "        fig.send_message(\"refresh\", {});\n",
       "    };\n",
       "}\n",
       "\n",
       "mpl.figure.prototype.handle_rubberband = function(fig, msg) {\n",
       "    var x0 = msg['x0'] / mpl.ratio;\n",
       "    var y0 = (fig.canvas.height - msg['y0']) / mpl.ratio;\n",
       "    var x1 = msg['x1'] / mpl.ratio;\n",
       "    var y1 = (fig.canvas.height - msg['y1']) / mpl.ratio;\n",
       "    x0 = Math.floor(x0) + 0.5;\n",
       "    y0 = Math.floor(y0) + 0.5;\n",
       "    x1 = Math.floor(x1) + 0.5;\n",
       "    y1 = Math.floor(y1) + 0.5;\n",
       "    var min_x = Math.min(x0, x1);\n",
       "    var min_y = Math.min(y0, y1);\n",
       "    var width = Math.abs(x1 - x0);\n",
       "    var height = Math.abs(y1 - y0);\n",
       "\n",
       "    fig.rubberband_context.clearRect(\n",
       "        0, 0, fig.canvas.width, fig.canvas.height);\n",
       "\n",
       "    fig.rubberband_context.strokeRect(min_x, min_y, width, height);\n",
       "}\n",
       "\n",
       "mpl.figure.prototype.handle_figure_label = function(fig, msg) {\n",
       "    // Updates the figure title.\n",
       "    fig.header.textContent = msg['label'];\n",
       "}\n",
       "\n",
       "mpl.figure.prototype.handle_cursor = function(fig, msg) {\n",
       "    var cursor = msg['cursor'];\n",
       "    switch(cursor)\n",
       "    {\n",
       "    case 0:\n",
       "        cursor = 'pointer';\n",
       "        break;\n",
       "    case 1:\n",
       "        cursor = 'default';\n",
       "        break;\n",
       "    case 2:\n",
       "        cursor = 'crosshair';\n",
       "        break;\n",
       "    case 3:\n",
       "        cursor = 'move';\n",
       "        break;\n",
       "    }\n",
       "    fig.rubberband_canvas.style.cursor = cursor;\n",
       "}\n",
       "\n",
       "mpl.figure.prototype.handle_message = function(fig, msg) {\n",
       "    fig.message.textContent = msg['message'];\n",
       "}\n",
       "\n",
       "mpl.figure.prototype.handle_draw = function(fig, msg) {\n",
       "    // Request the server to send over a new figure.\n",
       "    fig.send_draw_message();\n",
       "}\n",
       "\n",
       "mpl.figure.prototype.handle_image_mode = function(fig, msg) {\n",
       "    fig.image_mode = msg['mode'];\n",
       "}\n",
       "\n",
       "mpl.figure.prototype.updated_canvas_event = function() {\n",
       "    // Called whenever the canvas gets updated.\n",
       "    this.send_message(\"ack\", {});\n",
       "}\n",
       "\n",
       "// A function to construct a web socket function for onmessage handling.\n",
       "// Called in the figure constructor.\n",
       "mpl.figure.prototype._make_on_message_function = function(fig) {\n",
       "    return function socket_on_message(evt) {\n",
       "        if (evt.data instanceof Blob) {\n",
       "            /* FIXME: We get \"Resource interpreted as Image but\n",
       "             * transferred with MIME type text/plain:\" errors on\n",
       "             * Chrome.  But how to set the MIME type?  It doesn't seem\n",
       "             * to be part of the websocket stream */\n",
       "            evt.data.type = \"image/png\";\n",
       "\n",
       "            /* Free the memory for the previous frames */\n",
       "            if (fig.imageObj.src) {\n",
       "                (window.URL || window.webkitURL).revokeObjectURL(\n",
       "                    fig.imageObj.src);\n",
       "            }\n",
       "\n",
       "            fig.imageObj.src = (window.URL || window.webkitURL).createObjectURL(\n",
       "                evt.data);\n",
       "            fig.updated_canvas_event();\n",
       "            fig.waiting = false;\n",
       "            return;\n",
       "        }\n",
       "        else if (typeof evt.data === 'string' && evt.data.slice(0, 21) == \"data:image/png;base64\") {\n",
       "            fig.imageObj.src = evt.data;\n",
       "            fig.updated_canvas_event();\n",
       "            fig.waiting = false;\n",
       "            return;\n",
       "        }\n",
       "\n",
       "        var msg = JSON.parse(evt.data);\n",
       "        var msg_type = msg['type'];\n",
       "\n",
       "        // Call the  \"handle_{type}\" callback, which takes\n",
       "        // the figure and JSON message as its only arguments.\n",
       "        try {\n",
       "            var callback = fig[\"handle_\" + msg_type];\n",
       "        } catch (e) {\n",
       "            console.log(\"No handler for the '\" + msg_type + \"' message type: \", msg);\n",
       "            return;\n",
       "        }\n",
       "\n",
       "        if (callback) {\n",
       "            try {\n",
       "                // console.log(\"Handling '\" + msg_type + \"' message: \", msg);\n",
       "                callback(fig, msg);\n",
       "            } catch (e) {\n",
       "                console.log(\"Exception inside the 'handler_\" + msg_type + \"' callback:\", e, e.stack, msg);\n",
       "            }\n",
       "        }\n",
       "    };\n",
       "}\n",
       "\n",
       "// from http://stackoverflow.com/questions/1114465/getting-mouse-location-in-canvas\n",
       "mpl.findpos = function(e) {\n",
       "    //this section is from http://www.quirksmode.org/js/events_properties.html\n",
       "    var targ;\n",
       "    if (!e)\n",
       "        e = window.event;\n",
       "    if (e.target)\n",
       "        targ = e.target;\n",
       "    else if (e.srcElement)\n",
       "        targ = e.srcElement;\n",
       "    if (targ.nodeType == 3) // defeat Safari bug\n",
       "        targ = targ.parentNode;\n",
       "\n",
       "    // jQuery normalizes the pageX and pageY\n",
       "    // pageX,Y are the mouse positions relative to the document\n",
       "    // offset() returns the position of the element relative to the document\n",
       "    var x = e.pageX - $(targ).offset().left;\n",
       "    var y = e.pageY - $(targ).offset().top;\n",
       "\n",
       "    return {\"x\": x, \"y\": y};\n",
       "};\n",
       "\n",
       "/*\n",
       " * return a copy of an object with only non-object keys\n",
       " * we need this to avoid circular references\n",
       " * http://stackoverflow.com/a/24161582/3208463\n",
       " */\n",
       "function simpleKeys (original) {\n",
       "  return Object.keys(original).reduce(function (obj, key) {\n",
       "    if (typeof original[key] !== 'object')\n",
       "        obj[key] = original[key]\n",
       "    return obj;\n",
       "  }, {});\n",
       "}\n",
       "\n",
       "mpl.figure.prototype.mouse_event = function(event, name) {\n",
       "    var canvas_pos = mpl.findpos(event)\n",
       "\n",
       "    if (name === 'button_press')\n",
       "    {\n",
       "        this.canvas.focus();\n",
       "        this.canvas_div.focus();\n",
       "    }\n",
       "\n",
       "    var x = canvas_pos.x * mpl.ratio;\n",
       "    var y = canvas_pos.y * mpl.ratio;\n",
       "\n",
       "    this.send_message(name, {x: x, y: y, button: event.button,\n",
       "                             step: event.step,\n",
       "                             guiEvent: simpleKeys(event)});\n",
       "\n",
       "    /* This prevents the web browser from automatically changing to\n",
       "     * the text insertion cursor when the button is pressed.  We want\n",
       "     * to control all of the cursor setting manually through the\n",
       "     * 'cursor' event from matplotlib */\n",
       "    event.preventDefault();\n",
       "    return false;\n",
       "}\n",
       "\n",
       "mpl.figure.prototype._key_event_extra = function(event, name) {\n",
       "    // Handle any extra behaviour associated with a key event\n",
       "}\n",
       "\n",
       "mpl.figure.prototype.key_event = function(event, name) {\n",
       "\n",
       "    // Prevent repeat events\n",
       "    if (name == 'key_press')\n",
       "    {\n",
       "        if (event.which === this._key)\n",
       "            return;\n",
       "        else\n",
       "            this._key = event.which;\n",
       "    }\n",
       "    if (name == 'key_release')\n",
       "        this._key = null;\n",
       "\n",
       "    var value = '';\n",
       "    if (event.ctrlKey && event.which != 17)\n",
       "        value += \"ctrl+\";\n",
       "    if (event.altKey && event.which != 18)\n",
       "        value += \"alt+\";\n",
       "    if (event.shiftKey && event.which != 16)\n",
       "        value += \"shift+\";\n",
       "\n",
       "    value += 'k';\n",
       "    value += event.which.toString();\n",
       "\n",
       "    this._key_event_extra(event, name);\n",
       "\n",
       "    this.send_message(name, {key: value,\n",
       "                             guiEvent: simpleKeys(event)});\n",
       "    return false;\n",
       "}\n",
       "\n",
       "mpl.figure.prototype.toolbar_button_onclick = function(name) {\n",
       "    if (name == 'download') {\n",
       "        this.handle_save(this, null);\n",
       "    } else {\n",
       "        this.send_message(\"toolbar_button\", {name: name});\n",
       "    }\n",
       "};\n",
       "\n",
       "mpl.figure.prototype.toolbar_button_onmouseover = function(tooltip) {\n",
       "    this.message.textContent = tooltip;\n",
       "};\n",
       "mpl.toolbar_items = [[\"Home\", \"Reset original view\", \"fa fa-home icon-home\", \"home\"], [\"Back\", \"Back to  previous view\", \"fa fa-arrow-left icon-arrow-left\", \"back\"], [\"Forward\", \"Forward to next view\", \"fa fa-arrow-right icon-arrow-right\", \"forward\"], [\"\", \"\", \"\", \"\"], [\"Pan\", \"Pan axes with left mouse, zoom with right\", \"fa fa-arrows icon-move\", \"pan\"], [\"Zoom\", \"Zoom to rectangle\", \"fa fa-square-o icon-check-empty\", \"zoom\"], [\"\", \"\", \"\", \"\"], [\"Download\", \"Download plot\", \"fa fa-floppy-o icon-save\", \"download\"]];\n",
       "\n",
       "mpl.extensions = [\"eps\", \"jpeg\", \"pdf\", \"png\", \"ps\", \"raw\", \"svg\", \"tif\"];\n",
       "\n",
       "mpl.default_extension = \"png\";var comm_websocket_adapter = function(comm) {\n",
       "    // Create a \"websocket\"-like object which calls the given IPython comm\n",
       "    // object with the appropriate methods. Currently this is a non binary\n",
       "    // socket, so there is still some room for performance tuning.\n",
       "    var ws = {};\n",
       "\n",
       "    ws.close = function() {\n",
       "        comm.close()\n",
       "    };\n",
       "    ws.send = function(m) {\n",
       "        //console.log('sending', m);\n",
       "        comm.send(m);\n",
       "    };\n",
       "    // Register the callback with on_msg.\n",
       "    comm.on_msg(function(msg) {\n",
       "        //console.log('receiving', msg['content']['data'], msg);\n",
       "        // Pass the mpl event to the overriden (by mpl) onmessage function.\n",
       "        ws.onmessage(msg['content']['data'])\n",
       "    });\n",
       "    return ws;\n",
       "}\n",
       "\n",
       "mpl.mpl_figure_comm = function(comm, msg) {\n",
       "    // This is the function which gets called when the mpl process\n",
       "    // starts-up an IPython Comm through the \"matplotlib\" channel.\n",
       "\n",
       "    var id = msg.content.data.id;\n",
       "    // Get hold of the div created by the display call when the Comm\n",
       "    // socket was opened in Python.\n",
       "    var element = $(\"#\" + id);\n",
       "    var ws_proxy = comm_websocket_adapter(comm)\n",
       "\n",
       "    function ondownload(figure, format) {\n",
       "        window.open(figure.imageObj.src);\n",
       "    }\n",
       "\n",
       "    var fig = new mpl.figure(id, ws_proxy,\n",
       "                           ondownload,\n",
       "                           element.get(0));\n",
       "\n",
       "    // Call onopen now - mpl needs it, as it is assuming we've passed it a real\n",
       "    // web socket which is closed, not our websocket->open comm proxy.\n",
       "    ws_proxy.onopen();\n",
       "\n",
       "    fig.parent_element = element.get(0);\n",
       "    fig.cell_info = mpl.find_output_cell(\"<div id='\" + id + \"'></div>\");\n",
       "    if (!fig.cell_info) {\n",
       "        console.error(\"Failed to find cell for figure\", id, fig);\n",
       "        return;\n",
       "    }\n",
       "\n",
       "    var output_index = fig.cell_info[2]\n",
       "    var cell = fig.cell_info[0];\n",
       "\n",
       "};\n",
       "\n",
       "mpl.figure.prototype.handle_close = function(fig, msg) {\n",
       "    var width = fig.canvas.width/mpl.ratio\n",
       "    fig.root.unbind('remove')\n",
       "\n",
       "    // Update the output cell to use the data from the current canvas.\n",
       "    fig.push_to_output();\n",
       "    var dataURL = fig.canvas.toDataURL();\n",
       "    // Re-enable the keyboard manager in IPython - without this line, in FF,\n",
       "    // the notebook keyboard shortcuts fail.\n",
       "    IPython.keyboard_manager.enable()\n",
       "    $(fig.parent_element).html('<img src=\"' + dataURL + '\" width=\"' + width + '\">');\n",
       "    fig.close_ws(fig, msg);\n",
       "}\n",
       "\n",
       "mpl.figure.prototype.close_ws = function(fig, msg){\n",
       "    fig.send_message('closing', msg);\n",
       "    // fig.ws.close()\n",
       "}\n",
       "\n",
       "mpl.figure.prototype.push_to_output = function(remove_interactive) {\n",
       "    // Turn the data on the canvas into data in the output cell.\n",
       "    var width = this.canvas.width/mpl.ratio\n",
       "    var dataURL = this.canvas.toDataURL();\n",
       "    this.cell_info[1]['text/html'] = '<img src=\"' + dataURL + '\" width=\"' + width + '\">';\n",
       "}\n",
       "\n",
       "mpl.figure.prototype.updated_canvas_event = function() {\n",
       "    // Tell IPython that the notebook contents must change.\n",
       "    IPython.notebook.set_dirty(true);\n",
       "    this.send_message(\"ack\", {});\n",
       "    var fig = this;\n",
       "    // Wait a second, then push the new image to the DOM so\n",
       "    // that it is saved nicely (might be nice to debounce this).\n",
       "    setTimeout(function () { fig.push_to_output() }, 1000);\n",
       "}\n",
       "\n",
       "mpl.figure.prototype._init_toolbar = function() {\n",
       "    var fig = this;\n",
       "\n",
       "    var nav_element = $('<div/>')\n",
       "    nav_element.attr('style', 'width: 100%');\n",
       "    this.root.append(nav_element);\n",
       "\n",
       "    // Define a callback function for later on.\n",
       "    function toolbar_event(event) {\n",
       "        return fig.toolbar_button_onclick(event['data']);\n",
       "    }\n",
       "    function toolbar_mouse_event(event) {\n",
       "        return fig.toolbar_button_onmouseover(event['data']);\n",
       "    }\n",
       "\n",
       "    for(var toolbar_ind in mpl.toolbar_items){\n",
       "        var name = mpl.toolbar_items[toolbar_ind][0];\n",
       "        var tooltip = mpl.toolbar_items[toolbar_ind][1];\n",
       "        var image = mpl.toolbar_items[toolbar_ind][2];\n",
       "        var method_name = mpl.toolbar_items[toolbar_ind][3];\n",
       "\n",
       "        if (!name) { continue; };\n",
       "\n",
       "        var button = $('<button class=\"btn btn-default\" href=\"#\" title=\"' + name + '\"><i class=\"fa ' + image + ' fa-lg\"></i></button>');\n",
       "        button.click(method_name, toolbar_event);\n",
       "        button.mouseover(tooltip, toolbar_mouse_event);\n",
       "        nav_element.append(button);\n",
       "    }\n",
       "\n",
       "    // Add the status bar.\n",
       "    var status_bar = $('<span class=\"mpl-message\" style=\"text-align:right; float: right;\"/>');\n",
       "    nav_element.append(status_bar);\n",
       "    this.message = status_bar[0];\n",
       "\n",
       "    // Add the close button to the window.\n",
       "    var buttongrp = $('<div class=\"btn-group inline pull-right\"></div>');\n",
       "    var button = $('<button class=\"btn btn-mini btn-primary\" href=\"#\" title=\"Stop Interaction\"><i class=\"fa fa-power-off icon-remove icon-large\"></i></button>');\n",
       "    button.click(function (evt) { fig.handle_close(fig, {}); } );\n",
       "    button.mouseover('Stop Interaction', toolbar_mouse_event);\n",
       "    buttongrp.append(button);\n",
       "    var titlebar = this.root.find($('.ui-dialog-titlebar'));\n",
       "    titlebar.prepend(buttongrp);\n",
       "}\n",
       "\n",
       "mpl.figure.prototype._root_extra_style = function(el){\n",
       "    var fig = this\n",
       "    el.on(\"remove\", function(){\n",
       "\tfig.close_ws(fig, {});\n",
       "    });\n",
       "}\n",
       "\n",
       "mpl.figure.prototype._canvas_extra_style = function(el){\n",
       "    // this is important to make the div 'focusable\n",
       "    el.attr('tabindex', 0)\n",
       "    // reach out to IPython and tell the keyboard manager to turn it's self\n",
       "    // off when our div gets focus\n",
       "\n",
       "    // location in version 3\n",
       "    if (IPython.notebook.keyboard_manager) {\n",
       "        IPython.notebook.keyboard_manager.register_events(el);\n",
       "    }\n",
       "    else {\n",
       "        // location in version 2\n",
       "        IPython.keyboard_manager.register_events(el);\n",
       "    }\n",
       "\n",
       "}\n",
       "\n",
       "mpl.figure.prototype._key_event_extra = function(event, name) {\n",
       "    var manager = IPython.notebook.keyboard_manager;\n",
       "    if (!manager)\n",
       "        manager = IPython.keyboard_manager;\n",
       "\n",
       "    // Check for shift+enter\n",
       "    if (event.shiftKey && event.which == 13) {\n",
       "        this.canvas_div.blur();\n",
       "        // select the cell after this one\n",
       "        var index = IPython.notebook.find_cell_index(this.cell_info[0]);\n",
       "        IPython.notebook.select(index + 1);\n",
       "    }\n",
       "}\n",
       "\n",
       "mpl.figure.prototype.handle_save = function(fig, msg) {\n",
       "    fig.ondownload(fig, null);\n",
       "}\n",
       "\n",
       "\n",
       "mpl.find_output_cell = function(html_output) {\n",
       "    // Return the cell and output element which can be found *uniquely* in the notebook.\n",
       "    // Note - this is a bit hacky, but it is done because the \"notebook_saving.Notebook\"\n",
       "    // IPython event is triggered only after the cells have been serialised, which for\n",
       "    // our purposes (turning an active figure into a static one), is too late.\n",
       "    var cells = IPython.notebook.get_cells();\n",
       "    var ncells = cells.length;\n",
       "    for (var i=0; i<ncells; i++) {\n",
       "        var cell = cells[i];\n",
       "        if (cell.cell_type === 'code'){\n",
       "            for (var j=0; j<cell.output_area.outputs.length; j++) {\n",
       "                var data = cell.output_area.outputs[j];\n",
       "                if (data.data) {\n",
       "                    // IPython >= 3 moved mimebundle to data attribute of output\n",
       "                    data = data.data;\n",
       "                }\n",
       "                if (data['text/html'] == html_output) {\n",
       "                    return [cell, data, j];\n",
       "                }\n",
       "            }\n",
       "        }\n",
       "    }\n",
       "}\n",
       "\n",
       "// Register the function which deals with the matplotlib target/channel.\n",
       "// The kernel may be null if the page has been refreshed.\n",
       "if (IPython.notebook.kernel != null) {\n",
       "    IPython.notebook.kernel.comm_manager.register_target('matplotlib', mpl.mpl_figure_comm);\n",
       "}\n"
      ],
      "text/plain": [
       "<IPython.core.display.Javascript object>"
      ]
     },
     "metadata": {},
     "output_type": "display_data"
    },
    {
     "data": {
      "text/html": [
       "<img src=\"data:image/png;base64,iVBORw0KGgoAAAANSUhEUgAAAhwAAAFoCAYAAAAcpSI2AAAgAElEQVR4Xu2dCZhcRdX3T92eyWQPIWFJCBLCdN0JAwQlICBgEF8QFNnEhX01IItAFEF2AQmbgOyyC74gSxAUBBUJi8KLEYgwmb63hyEkMAFiCGQbMjN963uqv57QGWYyt2a66tat+ffz8DzA1K1zzv/UqfPruzUjfKAAFIACUAAKQAEooFkBpnl+TA8FoAAUgAJQAApAAQJwYBFAASgABaAAFIAC2hUAcGiXGAagABSAAlAACkABAAfWABSAAlAACkABKKBdAQCHdolhAApAASgABaAAFABwYA1AASgABaAAFIAC2hUAcGiXGAagABSAAlAACkABAAfWABSAAlAACkABKKBdAQCHdolhAApAASgABaAAFABwYA1AASgABaAAFIAC2hUAcGiXGAagABSAAlAACkABAAfWABSAAlAACkABKKBdAQCHdolhAApAASgABaAAFABwYA1AASgABaAAFIAC2hUAcGiXGAagABSAAlAACkABAAfWABSAAlAACkABKKBdAQCHdolhAApAASgABaAAFABwYA1AASgABaAAFIAC2hUAcGiXGAagABSAAlAACkABAAfWABSAAlAACkABKKBdAQCHdolhAApAASgABaAAFABwYA1AASgABaAAFIAC2hUAcGiXGAagABSAAlAACkABAAfWABSAAlAACkABKKBdAQCHdolhAAroU8D3/dlCiK/2YOGUMAxv4JzPJ6LbwzC8RJ8najOXfNqsp6MYY/cwxi6MouhtxtiuQRC8WF9fv36hUNg/l8vdKY/zff9uIcSEMAy/rmYdo6EAFEhCAQBHEqrDJhSokAISOIjovaqqqhldp1y6dOmylpaWVdlsdoOhQ4eumjt37soKme33NNKnQYMGZeREhULhe0KIq6uqqiZ0Ttza2tra3Ny8or6+foMhQ4YsmTNnTjvn/DbGWDYIgmkAjn6nABNAAeMKADiMSw6DUKByCpTOcDSFYXhc5WY1OxPn/CjG2O1BEFStyzLn/HbGWC2Aw2x+YA0KVEoBAEellMQ8UCABBeIAR9dLKpzzI4noHMbYpkKIlxhjzwkhjg7DcGJdXd3E8ssYMqSu/690ViUgoqlENCmKoiPy+fwTnPOzGGPTiWisEGIeEV0QhuGTvcnSE3CU2xVCyMsmF3TO5Xne5kKIC8svqUyePHmrKIquJqJdiegjInpi9erVP5s/f/7HvfmAv0MBKKBfAQCHfo1hAQpoU0AVOOrq6r4dRdEjRDQjk8k8FUXRAUT0SyHEQkXg2JUx9r0oivKe5zVHUXQuY+xAxtjJHR0db3me9w3G2FWMsW/kcjl52afHTxzgqKqqer2jo+NWItq8qqrqwIaGhsW+79/RCRyc802I6D+MsTvl2ZJCoTCaMXYlEbWHYfg1bQnAxFAACsRWAMARWyoMhAL2KVACjq8Q0eou3j3QeZml/AyH7/vybMY7YRge0Tne9/2HhRBTFYGjJgiCneQc9fX1wzs6Ov4rhDgoDMMnOuct3XPxhSAI9uovcMibRtd1ScX3/UuEEHuFYbh9mX0JIe9GUbRzU1PTS/ZlDx5BgYGlAIBjYOUb0TqmQAk4Poyi6OfloUVRtLy5ufkD+f/KgYNzvpwxdmYQBDeXAcdpQojTFIHjvSAIDpVz+L6/vRDiFcZYqxAiKvOjmjH2QRAEXzAAHBJ09hJCfNrF1jDP847tfLLFsfQjHCiQKgUAHKlKF5yFAmsroHpJxff9pUR0bhAEN8YFjtra2lrP8/Kdj6d2tck5n0JErzPG9i4UCk3lHmYymUIQBG/rBg7O+aNEVBNF0aldbUVRtLi5ufkTrB0oAAWSVQDAkaz+sA4F+qVAH4Cju0sq9wshdiqd4RgfRdF7RPTNzhs+fd/fWwjxZE/AMX78+KHDhw//mDH2oyAIbi8DmQuEEJkwDM+vEHD0+Fhs6ZLKoSNHjuTyEdrSmZfNieh6z/POamxsfLNfQuNgKAAF+q0AgKPfEmICKJCcAqrAwTn/JhH9gTF2WiaT+UsURfsIIX4lhFgQhqFs0Ixz3swYa5I3gAohNiCiXxPRtkS0m7yXojubnPOZRHQsY+wkIcQcIvoWY+waIcSxYRjeXSHg+BVjbF8i2nPcuHELFy1adHvnTaP19fUbd3R05OSTKYwx6UuNEOJGIcR61dXVWzc0NLQllyVYhgJQQCoA4MA6gAIpVkAVOGSo2Wz2BMbYWUQ0joheIKJ3iGiXMAz90pmBXYjoOiHEVhI8oig63fM8+XjrtJ6AY9q0aVUtLS3nM8aOEkJsREQSWq4uP+PRk8xxnlKRduvq6raOougxxtj40qOvEm7WvGm0rq5uahRFlzPGdhJCtBLR3zs6OmY0NzcvSHGK4ToUcEYBAIczqUQgUKB3BTjnu0VR1NLU1LTmXgvf928RQmTDMNyj9xkwAgpAASjQNwUAHH3TDUdBgVQqwDm/jDH2HSHEMVVVVQva29u/whj7jRDilHw+f1cqg4LTUAAKpEIBAEcq0gQnoUBlFJg4ceLgQYMGXUVEBxLRmNKlj+uDILipMhYwCxSAAlCgewUAHFgZUAAKQAEoAAWggHYFABzaJYYBKAAFoAAUgAJQAMCBNQAFoAAUgAJQAApoVwDAoV1iGIACUAAKQAEoAAUAHF3WwIcfLhMuLQvGGI0ZM4yWLFlJQjgVWq9pQuzIO9Z8r2XizACX6n3DDUc62ZudDKo/FeQacHieBI7htGTJCoqigQUciB15x5rvz26YrmNdqncAR7rWXp+9BXD0WTrrDnRpA1IVF7EDtgBbqlVjz3gAhz250OoJgEOrvEYnR9NF00XTNVpyiRpzqd4BHIkuJXPGARzmtNZtyaUNSFUrxA7YAmypVo094wEc9uRCqycADq3yGp0cTRdNF03XTMkVCgWKooIZYz1YkfW+3npD6eOPV1l9v5rneeR5GZI3ufb0AXAkupTMGQdwmNNatyUAB4ADwKG7yohWr26lKIqoqqpav7FeLGQyHhUKUeJ+rMsBqVV7+2oaOnR4ETy6+wA4rE5h5ZwDcFROy6RnAnAAOAAceqtQiIhaW1fS0KEj9BqKOXtVlUcdHXYDhwxFPq69cuUyGjZsZLdnOgAcMROe9mEAjrRn8DP/ARwADgCH3nru6GgvXkoZNGiwXkMxZ08LcMhw5JkheVYok6n6XHQAjpgJT/swAEfaMwjgkAoAtgBbJmCrvb2tWHDV1YOs2DjSBBzr0g7AYcVy0u/E4sXLxTru5dHvQIUtyMYzevQwWrp0pdU3UlU47OJ0iB15N9F0dazdvs5pes3Lpik1BnCoZ0xqJ/PVnXZjx45w8qWcTgalnvrPjoiiSKzr7uH+zI1joQAUgAIuKfDpp5/SJ5+00qBBdpzhMKltS0sLjR8/vs8m29raaNSoITR48OcvRzFHmxCAo8tywRmOPtePdQea/rZnkwCIHWd3TJzd6ekMx6JFLXTwwd+mF1+cY7Qs4lxSefXVOfTLX15EDz/8x7V8++1v76R7772r+P/a29uLN3Z2gtSee+5N8p8rr7yM7rvvQQrDHJ1//tn0wAOPFsfvsstUeuihx2ncuPgAgjMcRpeGncZwD4edeemLV7iPAfcxmGi6fVmbuo4xveZ7ug8hjcBRnpM77riV3n9/EZ1zzoXdpqortPQVOOTk3V1SwT0cuirEsnkBHJYlpB/umN58++FqxQ9F7IAtE7DVV+D4179ephtv/DW9/34L+f6WdOaZP6dNNplQrIOHH36geKZBvqPi4IO/T7feeiM999z/Ff/W03ESAG655Qaqrc3S3/72F1p//TH0k5+cRVOn7lA87p577qAHH/zfYnPfY4896bnn/v65Mxy9AUcnZNx774P0zW9+nWTsw4YNo6eemr3WGY4gyNG1115Bb7/dTJtuuhnNmHEW1dVN/lyN46bRim976ZsQwJG+nPXkMZoumq6JpmtTxZhe830BjpaW9+joow+hSy+9krbd9ktFwHjiicfpnnseINnUf/GL8+jaa2+kjTceTxdffB698MJzxUsz6zru9ddfpVNPPYFmzDiT9t33QLrvvrvpqaeepAcemEXPPfcsXXvtlXT99bfSiBEj6Kc/PY0++mhJn4FDXorp6QzHiBEj6Qc/OJBOPvm0Etg8S9ddd1XRj6FDh621VAAcNlVOQr4AOBISXoNZ05uvhhD6PCViB2yZgK2+AIc8e9Hc/BZdcMEla9b3/vvvXQSQxx57hDbYYEM6/vgTi39bsGA+HXLId4rAsa7jVq/+lH72s9Pp2Wf/UXzx17vvLiw2/hde+FcRWsaPn0DHHju9OOeLLz5H1157lRbgePPN/9CsWQ/SzTffuSa2E044pnimRp5ZKf8AOPq8vblzIIDDnVyi6aLpmmi6NlWM6TXfF+C46qqZ9OSTj6/1ZIu8SfOccy6iP/3pD7TbbrvT/vsfVJR19erVtMceXykCx7qOW2+99Yo3gv7hD08UgaP8HpLTTz+Jpk3bg/bb78DinPl8SGefPUMLcPz973+l2267ea0nTzo6OuiYY6bTIYccDuCwqVhs8AXAYUMWKuOD6c23Ml5XZhbEDtgyAVt9AY677rqNlixZUrzHovOzYME7tNFGG9OvfnU5jRkzln74wx8V/yTPVHz/+wcUgWNdxzU0vNEjcFx88fnFuTvnfPnlf9JVV12mBTjkpZ1nnvkLXXXVr9fE9t5779Lo0evT0KFDARyV2d7cmQXA4U4u0XTRdE00XZsqxvSa7w04Zs16Yi155D0OH374AZ100nE0c+Y1VF+/FT3//LN00UXnFe9zkIBx0UXn0DXX3ETjx29ShAh51kACxzvvzF/ncT2d4ZCAIf927bU3FS/XyLMb8gmUro/Fljva3VMq5fdtyEsnZ501gx577CnKZDJrbhqVUHHooQfT2WefTzvvvAu98cZcmjHjFLruuptpyy23AnDYVCw2+ALgsCELlfHB9OZbGa8rMwtiB2yZgK3egKPrapZnNfbf/zv0z3++WHz6RF762HjjjenEE0+hnXbapTj8d7+7h+6//97i74x84xvfpAceuI9mz365+LeejuuEge4uqcjjHnzw/jXv2Nh7728VIaY/wNHa2kqnnDKd5JmZRx99gvbaa9qa93C8+eYbdP31v6L585tp1Kj16KijjqN99tn3c4WNezgqs9elehYAR6rTt5bzaLpouiaark0VY3rNV/q3VORZjJqaGtp443FFWeV/y8b++ONPx5I5zou/Yk1kYBCAw4DItpsAcNieofj+md5843umfyRiB2yZgK1KA8dTTz1RPBshH4utqRlMV189kwqFDjrvvItjFQ2AI5ZMiQ3Cq827SA/gSGwtVtwwmi6arommW/GF248JTa/5SgNHFEX0619fXXx5V0dHO22//Y7Fm0vlpYk4HwBHHJWSGwPgAHAkt/o0Wza9+WoOR2l6xA7YMgFblQYOpUXezWAAR38V1Hs8gAPAoXeFJTg7mi6arommm+AS/5xp02sewNH37OMejr5r58yRuKTiTCrJ9OZrk3KIHbBlArYAHH2vegBH37Vz5kgAhzOpBHCMQdM10XRtqhjToAng6Hv2ARx9186ZIwEczqQSwAHgIACH3noGcPRdXwBH37Vz5kgAhzOpBHAAOAAcmst5oALHxx9/XHxfyJAhQ/qsMICjz9K5cyCAw51cmj69bJNyiB2Xk0yc3UkrcOyyy9TiD6wxxkg+irv++mOKbzWVbwWVryrv7bPPPnvQHXfcS+PGje9taI9/B3D0WTp3DgRwuJNLNF00XRNN16aKMb3mdQBHJAStbitQzaAMeUztQcq4j8VK4HjoocfXAIP8BdkLL/w5ffnLO9Gpp87oNaVdj+/1gG4GADj6oppjxwA43Emo6c3XJuUQO2DLBGxVEjiWrVxNjzzXTPl3P6FVn3bQ0MFVlJ0wig766iQaOawmVnn1FTjk5HPnvk4//vEJxdeojxw5il566UW65ZYb6f33W2jSpC3oxz/+CdXVbUknnXQ8zZ37WvEMifxBOPnz89dccwV98MH7xR+cO+GEU2iHHXbs1V8AR68SuT8AwOFOjtF00XRNNF2bKsb0mq8UcEjYuObBufTOBys+J+dmGw2n0787JRZ09Ac4pOE99vgKXXLJFcVflT3xxGOK/77ddtvT008/STfddB3df/+sIoyUn+E47LDv0vTpP6Jdd51G8tXsd999Oz3wwKO9LgsAR68SuT8AwOFOjk1vvjYph9gBWyZgq1LAcdeTjfTCfxb1WEK7bjOOjt5ncq8l1l/gOOCAfeikk35Mzc1vUUvLe3ThhZeusTl9+tF04IEH01577bMWcJxwwjG04YYbFf+21VbbFO8BkfeG9PYBcPSm0AD4O4DDnSSj6aLpmmi6NlWM6TVfCeCQ92yce9v/0fsfrepRyo3XH0qXHP/lXu/p6A9wyJtH99xzN7r66hvo6aefKJ7JOOGEk9f4dMEFZ1NtrU+HH37UWsAhL6XceuuN9PLL/yQhBB122JF06KFH9rosABy9SuT+AACHOzk2vfnapBxiB2yZgK1KAEfr6g46+9aXadmqth5LaOSwQTRz+o40eFDVOsusP8Dx2T0cf6FZsx6k+fPfXusMx/HHH0n77Xcgfetb+60BDnnp5bXX/k1Tp+5QhI1///sV+tnPZtBtt91DW2xRu05fARw27ZgJ+QLgSEh4DWbRdNF0TTRdDUu3z1OaXvOVAA4bznDkcvPokksuoJ133pV+9KNTacGCd+jYYw9b6x6O6667mu6//xEaM2Ys7b77TnTbbb8tQsVBB32r+DjtvvvuX7wUM336UfS73z1MG220MYCjiwK9X2jq89JP54EAjnTmrTuvTW++NimH2AFbJmCrEsAh6yaJezg638PBmEcbbLAB7bPPvnTIIUesuf/iH/94gX7zmxuL93JsttnmdOqpZ9A222xbLPPLL7+U/vrXP9PFF19Ow4cPLz6lsnDhQho1ahQde+x02nvvb/W6HeAMR68SuT8AwOFOjtF00XRNNF2bKsb0mq8UcJh+SsWGnAE4bMhCwj4AOBJOQAXNm958K+h6v6dC7IAtE7BVKeCQC36t93Cs7qChNfrew9HvAqvABACOCoiY9ikAHGnP4Gf+o+mi6ZpoujZVjOk1X0ng6NRR3tPR1l6gQdX63jRqQ84AHDZkIWEfABwJJ6CC5k1vvhV0vd9TIXbAlgnY0gEc/Vn8cZ9S6Y+NSh0L4KiUkimeB8CR4uR1cR1NF03XRNO1qWJMr3kAR9+zD+Dou3bOHAngcCaV+Hl6/Dw9fp5eczkDOPouMICj79o5cySAw5lUAjgAHAAOzeVcKHRQR0c71dQM0Wwp3vRpuqTS2rqSBg0aXHwVetfPhhuOdPKVFU4GFW9pdj8KwNEf9ew61vTpZZuiR+y4nGTicpJ8u2Zr6wrKZKrI8z7fOE3XRCbjUaEQmTarZE+IqAhpUrOeQA3AoSRpegcDONKbu66eo+mi6ZpoujZVTBJrXkJHFBVI/hZJkh8Z+3rrDaWPP15l9Zkt+cNuEjbW9QNvAI4kV5JB2wAOg2JrNpXE5qs5pNjTI3bAFmArdrlYNxDAYV1K9DgE4NCjaxKzoumi6aLpJlF5ydh0qd4BHMmsIeNWARzGJddm0KUNSFUkxA7YAmypVo094wEc9uRCqycADq3yGp0cTRdNF03XaMklasylegdwJLqUzBkHcJjTWrcllzYgVa0QO2ALsKVaNfaMB3DYkwutngA4tMprdHI0XTRdNF2jJZeoMZfqHcCR6FIyZxzAYU5r3ZZc2oBUtULsgC3AlmrV2DMewGFPLrR6AuDQKq/RydF00XTRdI2WXKLGXKp3AEeiS8mccQCHOa11W3JpA1LVCrEDtgBbqlVjz3gAhz250OoJgEOrvEYnR9NF00XTNVpyiRpzqd4BHIkuJXPGARzmtNZtyaUNSFUrxA7YAmypVo094wEc9uRCqycADq3yGp0cTRdNF03XaMklasylegdwJLqUzBkHcJjTWrslRjRs+GBaueJTIqHdmlUGXNp8VYVF7ADNtIMmgEO16lM6HsCR0sSVub1s5Wp65LlmanrvE2pdXaAhNRmq3WQUHfTVSTRyWE36A4wRAZoumm7am26MZb7WEJfWPIBDNfspHQ/gSGniSm5L2Ljmwbn0zgcrPhfIZhsNp9O/O2VAQIdLm6/qikTsgK20wxaAQ7XqUzoewJHSxJXcvuvJRnrhP4t6DGLXbcbR0ftMTneQMbxH00XTTXvTjbHMcYZDVaSEx7OE7VtnfvHi5YI5pIpsPKNHD6OlS1eS6xtQJASd85uXadGSVT2uq3FjhtKlP9yRPJeS3E20AynvXcNH7AOj3l3O+9ixIxzqQp9lysmg+kMxURQJ5ngz6o8+Nh+76tN2mn7ZM/TxitU9urneiBr6zdlfpyE1VTaHAt+gABQYwAowR5sQgKPLosYZjvRWOc5wfJY7fMvHt3zXz2jiDEf69moAR5ec4R6O9C3ico9xD8f/VwP3cOAejoEIHGPGuJF33DSa7j4U23sAR2yprByIp1QAHIAtN5qu6gbjUt4BHKrZT+l4AEdKE1fm9lrv4Wgr0JBBeA9H+rMaPwKXGk/8qAGaLuUdwKG68lM6HsCR0sR15zYjGj5iCK1Y3oo3jTqU1t5Ccanx9BZrd/cxuHJZYSDHDuBQzX5KxwM4Upq4btxG48GpddzH4E499xaJS/UO4Ogt2478HcDhSCJx4yThm+4K5989gzMcnykA4LB/78ZTKl1yBOCwf9HG9dClDShuzJ3jEDvO7uDsjmrV2DMeZzjsyYVWTwAcWuU1OjmaLpoumq7RkkvUmEv1DuBIdCmZMw7gMKe1bksubUCqWiF2wBZgS7Vq7BkP4LAnF1o9AXBoldfo5Gi6aLpoukZLLlFjLtU7gCPRpWTOOIDDnNa6Lbm0AalqhdgBW4At1aqxZzyAw55caPUEwKFVXqOTo+mi6aLpGi25RI25VO8AjkSXkjnjAA5zWuu25NIGpKoVYgdsAbZUq8ae8QAOe3Kh1RMAh1Z5jU6Opoumi6ZrtOQSNeZSvQM4El1K5owDOMxprduSSxuQqlaIHbAF2FKtGnvGAzjsyYVWTwAcWuU1OjmaLpoumq7RkkvUmEv1DuBIdCmZMw7gMKe1bksubUCqWiF2wBZgS7Vq7BkP4LAnF1o9AXBoldfo5Gi6aLpoukZLLlFjLtU7gCPRpWTOOIDDnNa6Lbm0AalqhdgBW4At1aqxZzyAw55caPUEwKFVXqOTo+mi6aLpGi25RI25VO8AjkSXkjnjAA5zWuu25NIGpKoVYgdsAbZUq8ae8QAOe3Kh1RMAh1Z5jU6Opoumi6ZrtOQSNeZSvQM4El1K5owDOMxprduSSxuQqlaIHbAF2FKtGnvGAzjsyYVWTwAcWuU1OjmaLpoumq7RkkvUmEv1DuBIdCmZMw7gMKe1bksubUCqWiF2wBZgS7Vq7BkP4LAnF1o9AXBoldfo5Gi6aLpoukZLLlFjLtU7gCPRpWTOOIDDnNa6Lbm0AalqhdgBW4At1aqxZzyAw55caPUEwKFVXqOTo+mi6aLpGi25RI25VO8AjkSXkjnjAA5zWuu25NIGpKoVYgdsAbZUq8ae8QAOe3Kh1RMAh1Z5jU6Opoumi6ZrtOQSNeZSvQM4El1K5owDOMxprduSSxuQqlaIHbAF2FKtGnvGAzjsyYVWTwAcWuU1OjmaLpoumq7RkkvUmEv1DuBIdCl1b5xz/jYRiTiuhWE4Kc44AEccldIxxqUNSFVxxA7YAmypVo094wEc9uRijSec8yPjuhWG4T1xxgI44qiUjjFoumi6aLrpqNVKeOlSvQM4KrEizMzh+b6/2bhx4xYuXrzYa2hoaFMxC+BQUcvusS5tQKpKI3bAFmBLtWrsGQ/gsCcX3XoyderU6mXLls1kjJ1ERFVCCE5ElxNR5HnecblcbnmcEAAccVRKxxg0XTRdNN101GolvHSp3gEclVgRGufwff9KIcQ0IcQpjLG/EdE2RDSWiO4golfCMDw2jnkARxyV0jHGpQ1IVXHEDtgCbKlWjT3jARz25KJbT3zfXyCE+E4Yhq9wzuXZjClhGDb7vr+9EOLJMAw3iBMCgCOOSukYg6aLpoumm45arYSXLtU7gKMSK0LjHJzzZYyxHYIgyJUDR21t7ZcymcyzQRCMimMewBFHpXSMcWkDUlUcsQO2AFuqVWPPeACHPbno6QzH74ioZvny5UcMHz78A8bYNplMJuro6PgdY2xhEAQ/iBMCgCOOSukYg6aLpoumm45arYSXLtU7gKMSK0LjHBMnTlxv0KBBdxPRNxljGSHEx4yxUUKIvzLGDguC4L9xzAM44qiUjjEubUCqiiN2wBZgS7Vq7BkP4LAnF+v0JJvNbkFEkz3Pk9ARhmHYqOI6gENFLbvHoumi6aLp2l2jlfTOpXoHcFRyZWiaq76+fnh7e/shEjiISL5/Y54Q4oF8Pr86rkkAR1yl7B/n0gakqjZiB2wBtlSrxp7xAA57ctGtJ9ls9ovycVjG2FIiep2IPCHEl+TlFcbYPrlc7o04IQA44qiUjjFoumi6aLrpqNVKeOlSvQM4KrEiNM7h+/5rRPRMEAQ/Lft9lQzn/HrG2JeCINgxjnkARxyV0jHGpQ1IVXHEDtgCbKlWjT3jARz25KJbT3zfb81kMtvMmzcvXz6grq7OF0K8FgTB0DghADjiqJSOMWi6aLpouumo1Up46VK9AzgqsSI0zsE5f4wxNicIgovLzfi+fxYR7R4EwV5xzAM44qiUjjEubUCqiiN2wBZgS7Vq7BkP4LAnF2s88X3/zjK31iOi/YQQL8tXmTPGCvJto/J154yxO4MgmB4nBABHHJXSMQZNF00XTTcdtVoJL12qdwBHJVZEhefwff+uuFMGQXB0nLEAjjgqpWOMSxuQquKIHcRj+hoAACAASURBVLAF2FKtGnvGAzjsyYVWTwAcWuU1OjmaLpoumq7RkkvUmEv1DuBIdCnFMs5835eXVOrlo7BlR9TIX44NgmDfOLMAOOKolI4xLm1AqoojdsAWYEu1auwZD+CwJxfdesI5v4ExJn+CXj4euwMR/VMIsQVjbGMhxM1hGJ4cJwQARxyV0jEGTRdNF003HbVaCS9dqncARyVWhMY5OOeLiWh6GIazOOe5KIoOmjBhQtDS0nI3Y2xVEAQ/jGN+8eLlgrE4I9MxRhbh6NHDaOnSlTQQN1/Ejryno1Ir4yXq3Y29buzYEQ51oc/WtjNBcc5Xd3R0ZJubmxdwzh8SQjyZz+fvmjx58lZRFD0VBMGEOCUdRZFgLhFHnKAxBgpAASgABaxRgDnahFwCjkYhxJn5fP6PnPMLGWMbBUFwogSOQqHwUhiGI+KsJpzhiKNSOsbg254b3/ZUVxvyjryn/WwuznCoVr3h8b7vHyeEuIYxdowQ4k3G2L+J6A4i2lkIsTgMw2/EcQn3cMRRKR1jXLqmq6o4Ysf9K2lvugN5zeMeDtXsJzCec75bFEUrmpqaXq2rq9sriqLjGGNLqqqqLmxoaHg/jksAjjgqpWMMmi6aLppuOmq1El66VO8AjkqsiATmyGazIxljdWEYvhLHPIAjjkrpGOPSBqSqOGIHbAG2VKvGnvEADntyoeSJPNMhbyANgqD83Rw9zgHgUJLX6sFoumi6aLpWl2hFnXOp3gEcFV0a5iYDcDAaMwaNB43HXM0lbcmlxqOqJWJ3Y68DcKiufEvGAzgAHEuWrBiQ7yABaCLvlmzDRtxwCbYAHEaWTOWNADgAHAAOUfnCsnhGlxqPqsyIHWc4VNeMyfGpfg8H5/yI3sRijG1DRKfjHg582+ttrbj0dzQeNxqP6ppE3t3IO85wqK58A+M552/HNROG4eZxxuKm0TgqpWMMNl83Nl/V1Ya8I+9pv2cLwKFa9SkdD+BIaeK6cRuNB40n7Y1HtRqx5t1Y8wAO1ZWf0vEAjpQmDsCxlgJoPG40HtVqRN7dyDuAQ3Xlp3Q8gCOliQNwADhKCqDputF0VXcil/IO4FDNfkrHAzhSmjgAB4ADwEEuNV3Vncil2AEcqtlP6XgAR0oTB+AAcAA4AByOvOQQwJGCPsQ5/7oQYm4+n1/MOT+KMXawEGJOdXX1pQ0NDW1xQgBwxFEpHWNc+sajqjhix2UF3DCrWjX2jAdw2JOLbj3hnP+ciM4moq8TUQ0RPcMYu52IdhNCPBuG4clxQgBwxFEpHWPQdNF00XTTUauV8NKlegdwVGJFaJzD9/0F8ufo8/n8XzjnEjQ2D8Nwj7q6uqlRFD0VhuHYOOYBHHFUSscYlzYgVcURO2ALsKVaNfaMB3DYk4tuPfF9f2V7e/vk5ubmhb7vLyKimUEQXDt58mQeRdErQRCsFycEAEccldIxBk0XTRdNNx21WgkvXap3AEclVoTGOTjn/2CMvUpEHxLRhZlMZpIQoq1QKFzHGBsVBMFeccwDOOKolI4xLm1AqoojdsAWYEu1auwZD+CwJxc9neHYRghxL2NsMyL6eRAEN3HOr2WM7VooFL7X1NTUFCcEAEccldIxBk0XTRdNNx21WgkvXap3AEclVoThObLZbE0+n1+tYhbAoaKW3WNd2oBUlUbsgC3AlmrV2DMewGFPLtZ44vv++cuXL7+qpaVllfz3dbkYBMEv4oQA4IijUjrGoOmi6aLppqNWK+GlS/UO4KjEiqjwHJzzZ9va2g6YP3/+x/Lf1zG9CMPwa3HMAzjiqJSOMS5tQKqKI3bAFmBLtWrsGQ/gsCcXyp5ks9mR+Xx+WZwDARxxVErHGDRdNF003XTUaiW8dKneARyVWBEa5/B9f7YQ4pgwDJvLzdTV1X0niqLrwjDcJI55AEccldIxxqUNSFVxxA7YAmypVo094wEc9uSiW098358lhNiTMXaefP/GpEmTNq2urr6ZiKYR0RVBEFwUJwQARxyV0jEGTRdNF003HbVaCS9dqncARyVWhOY5fN/fn4iuJ6IlQogtGGNPZzKZGfPmzXsnrmkAR1yl7B/n0gakqjZiB2wBtlSrxp7xAA57ctGjJ5zzbSVwMMa2FkIMYYxdN3jw4Ivmzp27Mq77AI64Stk/Dk0XTRdN1/46rZSHLtU7gKNSq0LTPL7v3yrv4SCi+xljZ5TOcNxCRBsIIX4ahuH9cUwDOOKolI4xLm1AqoojdsAWYEu1auwZD+CwJxfdesI5DxljJwZB8EzZgAzn/AwiOi8Mw5FxQgBwxFEpHWPQdNF00XTTUauV8NKlegdwVGJFaJxjXW8VnTRp0heam5sXxDEP4IijUjrGuLQBqSqO2AFbgC3VqrFnPIDDnlz05AnzfX8/IUQ9YyxTNqiGiLYJgmDfOCEAOOKolI4xaLpoumi66ajVSnjpUr0DOCqxIjTOwTm/gTF2LBG9RkQ7ENE/S/dxbCyEuDkMw5PjmAdwxFEpHWNc2oBUFUfsgC3AlmrV2DMewGFPLnq6h2MxEU0Pw3AW5zwXRdFBEyZMCFpaWu5mjK0KguCHcUIAcMRRKR1j0HTRdNF001GrlfDSpXoHcFRiRWicg3O+uqOjIyvv1eCcPySEeDKfz981efLkraIoeioIgglxzAM44qiUjjEubUCqiiN2wBZgS7Vq7BkP4LAnFz2d4WgUQpyZz+f/yDm/kDG2URAEJ0rgKBQKL4VhOCJOCACOOCqlYwyaLpoumm46arUSXrpU7wCOSqwIjXP4vn+cEOIaxtgxQog3GWP/JqI7iGhnIcSHYRjuHcc8gCOOSukY49IGpKo4YgdsAbZUq8ae8QAOe3LRoyec892iKFrR1NT0al1d3V5RFB3HGFtSVVV1YUNDw/txQgBwxFEpHWPQdNF00XTTUauV8NKlegdwVGJFWDAH57y5qqpq955+XwXAYUGSKuSCSxuQqiSIHbAF2FKtGnvGAzjsyUW/POGcLyeiKV1/xr5zUgBHv+S16mA0XTRdNF2rSlKrMy7VO4BD61IxNzmAw5zWSVtyaQNS1RKxA7YAW6pVY894AIc9ueiXJwCOfsmXqoPRdNF00XRTVbL9ctalegdw9Gsp2HMwgMOeXOj2xKUNSFUrxA7YAmypVo094wEc9uSiX54AOPolX6oORtNF00XTTVXJ9stZl+odwNGvpWDPwZzzZUS0LW4atScnujxxaQNS1QixA7YAW6pVY894AIc9ueiXJzjD0S/5UnUwmi6aLppuqkq2X866VO8Ajn4tBT0H+77/FyHECT2drejOan19/foNDQ1LiUh093c8FqsnV0nM6tIGpKofYgdsAbZUq8ae8QAOe3KxxhPf958noqlEdNmIESNmzpkzp72/bgI4+qugPcej6aLpounaU4+6PXGp3gEculdLH+fnnP+AMXa5EGKV53kn5HK52X2cqngYgKM/6tl1rEsbkKqyiB2wBdhSrRp7xgM47MnF5zzZdNNNhwwZMuQsIjqDiB71PO/Stra21vKB8mfr44QA4IijUjrGoOmi6aLppqNWK+GlS/UO4KjEitA8h+/7+wkhHmKMZcpMMXm/RhAE5f+vR08AHJqTZHB6lzYgVdkQO2ALsKVaNfaMB3DYk4vPeVJXVzcxiqIrGGMHEtF9RDQzk8msdYajpx9r6zoZgMPiRCu6hqaLpoumq1g0KR7uUr0DOCxciFOmTBn26aefnkNEpxFRQEQnB0Hwj/64unjxcsHkORFHPrIIR48eRkuXrqSBuPkiduTdkVKOFQbq3Y29buzYEQ51oc+WbqqD4py3ENFgIjo/DMObiCiKVZXrGBRFkWAuEUd/BcHxUAAKQAEoYFQB5mgTSjVw+L5/VxRFZ+bz+cWVWg04w1EpJZOfB9/23Pi2p7qSkHfkPe1nc3GGQ7XqUzoe93CkNHHduO3SNV3VrCB23L+S9qY7kNc87uFQzX5KxwM4Upo4AMdaCgA4ABwAjvTuZQCO9OZOyXMAh5JcVg9G00XTRdO1ukQr6pxL9Q7gqOjSsHcyAIe9uVH1zKUNCLHHVwB5B2imHTQBHPHrPdUjARypTh8uK5QUQNNF001701XdiVxa8wAO1eyndDyAI6WJwz0cgC3AFrnUdFV3IpdiB3CoZj+l4wEcKU0cgAPAAeAAcIxx48wWgMOdPrTOSAAc7iTapW88qllB7G40HuQ9vgIurXkAR/y8p3okgCPV6cO3fHzLx7d8R77lq+5EAA5VxcyPT/WbRnXIBeDQoWoyc7q0AakqiNhxhgM3japWjT3jcYbDnlxo9QTAoVVeo5Oj6aLpoukaLblEjblU7wCORJeSOeMADnNa67bk0gakqhViB2wBtlSrxp7xAA57cqHVEwCHVnmNTo6mi6aLpmu05BI15lK9AzgSXUrmjAM4zGmt25JLG5CqVogdsAXYUq0ae8YDOOzJhVZPABxa5TU6OZoumi6artGSS9SYS/UO4Eh0KZkzDuAwp7VuSy5tQKpaIXbAFmBLtWrsGQ/gsCcXWj0BcGiV1+jkaLpoumi6RksuUWMu1TuAI9GlZM44gMOc1rotubQBqWqF2AFbgC3VqrFnPIDDnlxo9QTAoVVeo5Oj6aLpoukaLblEjblU7wCORJeSOeMADnNa67bk0gakqhViB2wBtlSrxp7xAA57cqHVEwCHVnmNTo6mi6aLpmu05BI15lK9AzgSXUrmjAM4zGmt25JLG5CqVogdsAXYUq0ae8YDOOzJhVZPABxa5TU6OZoumi6artGSS9SYS/UO4Eh0KZkzDuAwp7VuSy5tQKpaIXbAFmBLtWrsGQ/gsCcXWj0BcGiV1+jkaLpoumi6RksuUWMu1TuAI9GlZM44gMOc1rotubQBqWqF2AFbgC3VqrFnPIDDnlxo9QTAoVVeo5Oj6aLpoukaLblEjblU7wCORJeSOeMADnNa67bk0gakqhViB2wBtlSrxp7xAA57cqHVEwCHVnmNTo6mi6aLpmu05BI15lK9AzgSXUrmjAM4zGmt25JLG5CqVogdsAXYUq0ae8YDOOzJhVZPABxa5TU6OZoumi6artGSS9SYS/UO4Eh0KZkzDuAwp7VuSy5tQKpaIXbAFmBLtWrsGQ/gsCcXWj0BcGiV1+jkaLpoumi6RksuUWMu1TuAI9GlZM44gMOc1rotubQBqWqF2AFbgC3VqrFnPIDDnlxo9QTAoVVeo5Oj6aLpoukaLblEjblU7wCORJeSOeMADnNa67bk0gakqhViB2wBtlSrxp7xAA57cqHVEwCHVnmNTo6mi6aLpmu05BI15lK9AzgSXUrmjAM4zGmt25JLG5CqVogdsAXYUq0ae8YDOOzJhVZPABxa5TU6OZoumi6artGSS9SYS/UO4Eh0KZkzDuAwp7VuSy5tQKpaIXbAFmBLtWrsGQ/gsCcXWj0BcGiV1+jkaLpoumi6RksuUWMu1TuAI9GlZM44gMOc1rotubQBqWqF2AFbgC3VqrFnPIDDnlxo9QTAoVVeo5Oj6aLpoukaLblEjblU7wCORJeSOeMADnNa67bk0gakqhViB2wBtlSrxp7xAA57cqHVEwCHVnmNTo6mi6aLpmu05BI15lK9AzgSXUrmjAM4zGmt25JLG5CqVogdsAXYUq0ae8YDOOzJhVZPABxa5TU6OZoumi6artGSS9SYS/UO4Eh0KZkzDuAwp7VuSy5tQKpaIXbAFmBLtWrsGQ/gsCcXWj0BcGiV1+jkaLpoumi6RksuUWMu1TuAI9GlZM44gMOc1rotubQBqWqF2AFbgC3VqrFnPIDDnlxo9QTAoVVeo5Oj6aLpoukaLblEjblU7wCORJeSOeMADnNa67bk0gakqhViB2wBtlSrxp7xAA57cqHVk8WLlwvGtJowOrlsPKNHD6OlS1fSQNyAEDvybrTgEjaGendjrxs7doRDXeizonAyqP7UfBRFgrlEHP0RA8dCASgABaCAcQWYo00IwNFlKeEMh/Ha0mYQ3/bc+LanukCQd+Q97WdzcYZDtepTOh73cKQ0cd24jfsYcB9D2huPajVizbux5nEPh+rKT+l4AEdKEwfgWEsBNB43Go9qNSLvbuQdwKG68lM6HsCR0sQBOAAcJQXQdN1ouqo7kUt5B3CoZj+l4wEcKU0cgAPAAeAgl5qu6k7kUuwADtXsp3Q8gCOliQNwADgAHACOMW6c3QFwuNOH1hkJgMOdRLv0jUc1K4jdjcaDvMdXwKU1D+CIn/dUjwRwpDp9+JaPb/n4lu/It3zVnQjAoaqY+fF4D0cXzQEc5hehLosubUCqGiF2nOHAI8GqVWPPeJzhsCcXWj0BcGiV1+jkaLpoumi6RksuUWMu1TuAI9GlZM44gMOc1rotubQBqWqF2AFbgC3VqrFnPIDDnlxo9QTAoVVeo5Oj6aLpoukaLblEjblU7wCORJeSOeMADnNa67bk0gakqhViB2wBtlSrxp7xAA57cqHVEwCHVnmNTo6mi6aLpmu05BI15lK9AzgSXUrmjAM4zGmt25JLG5CqVogdsAXYUq0ae8YDOOzJhVZPABxa5TU6OZoumi6artGSS9SYS/UO4Eh0KZkzDuAwp7VuSy5tQKpaIXbAFmBLtWrsGQ/gsCcXWj0BcGiV1+jkaLpoumi6RksuUWMu1TuAI9GlZM44gMOc1rotubQBqWqF2AFbgC3VqrFnPIDDnlxo9QTAoVVeo5Oj6aLpoukaLblEjblU7wCORJeSOeMADnNa67bk0gakqhViB2wBtlSrxp7xAA57cqHVEwCHVnmNTo6mi6aLpmu05BI15lK9AzgSXUrmjAM4zGmt25JLG5CqVogdsAXYUq0ae8YDOOzJhVZPABxa5TU6OZoumi6artGSS9SYS/UO4Eh0KZkzDuAwp7VuSy5tQKpaIXbAFmBLtWrsGQ/gsCcXWj0BcGiV1+jkaLpoumi6RksuUWMu1TuAI9GlZM44gMOc1rotubQBqWqF2AFbgC3VqrFnPIDDnlxo9QTAoVVeo5Oj6aLpoukaLblEjblU7wCORJeSOeMADnNa67bk0gakqhViB2wBtlSrxp7xAA57cqHVEwCHVnmNTo6mi6aLpmu05BI15lK9AzgSXUrmjAM4zGmt25JLG5CqVogdsAXYUq0ae8YDOOzJhVZPABxa5TU6OZoumi6artGSS9SYS/UO4Eh0KZkzDuAwp7VuSy5tQKpaIXbAFmBLtWrsGQ/gsCcXWj0BcGiV1+jkaLpoumi6RksuUWMu1TuAI9GlZM44gMOc1rotubQBqWqF2AFbgC3VqrFnPIDDnlxo9QTAoVVeo5Oj6aLpoukaLblEjblU7wCORJeSOeMADnNa67bk0gakqhViB2wBtlSrxp7xAA57cqHVEwCHVnmNTo6mi6aLpmu05BI15lK9AzgSXUrmjAM4zGmt25JLG5CqVogdsAXYUq0ae8YDOOzJhVZPABxa5TU6OZoumi6artGSS9SYS/UO4Eh0KZkzDuAwp7VuSy5tQKpaIXbAFmBLtWrsGQ/gsCcX8AQKQAEoAAWgABRImQIsZf7CXSgABaAAFIACUCCFCgA4Upg0uAwFoAAUgAJQIG0KADjSljH4CwWgABSAAlAghQoAOFKYNLgMBaAAFIACUCBtCgA40pYx+AsFoAAUgAJQIIUKADhSmDS4DAWgABSAAlAgbQoAONKWMfgLBaAAFIACUCCFCgA4Upg0uAwFoAAUgAJQIG0KADjSljH42xcF5DoXfTkwzcdMnTq1es6cOe1pjgG+qyswfvz4oS0tLavUj8QRUECvAgAOvfpaMTvnfJMwDN+zwhmDTmSz2ZH5fH5ZmckBAx6c82sYYw8HQfAPg5JbYUqu9+rq6sUNDQ0FIpL/eEQUWeGcZid837+FiJ4JguAhzaasm34g5926ZPTgEIAjLZnqo5++7/+JiJ4PguCKPk6RysM45/cS0RjG2FAhxO88z/trLpebT0TOQwfn/A+MMR4EwZapTF4/nOac/54xNk4IISHjBSHEvfl8ft5AgA6ZdyLaIgzDrfshYSoPHch5T1PCABxpypair77vPyI3oCAItu3mUGcbr+/7vyai7QuFwuGZTOYQIcRmjLHRjLGzc7lc4DJ0cM7/TESDwzDcXeZ88uTJYxobG5fW19dXNTQ0tLkcu+/7vyQiGfe+QohvEdEUxti0KIqOyefzr7kMHZzzp4hoUBiGX5N5z2azE4YOHbp01apVmdJZPmfP8gzkvCu2hMSHAzgST4EeB3zff1gIsXUYhn5pA/qi53ny9PLyIAjeLll1Ejo45w96nvdgLpd7WMZZV1e3cxRFhxHRJkR0ehiGzXpUT3bWbDa7BWPsFcbYCfKUOud8BmNMNqARRPSy53m3NzY2hsl6qc865/wOInotDMMbpJXa2tpNM5nMqUKIvSR4NjY2vqnPenIzT5o0aVR1dbU8e3duEAQ3+r5/phDi2xIuGWPvCyEuDsPwdVdhc6DmPbkV13fLAI6+a2fzkUx+yxdCjArD8IjSBiQb7mAiaiKiV8IwvNDmAProm1zPMvbbiSgIguDyznk45zswxo4jog/GjRt30ezZszv6aMPmwzK+708XQmQZYyuI6BDG2LFCiC8S0SQJHoyxU3K53HKbg+iDb0Vw5pxfREQjhRBn5fP51SXYHB9F0Qwi2kgI8aMu9/T0wZR1hxRjr6ur+3YURYcT0buMsT2FEEcLITb1PG87IvpKe3v7d5ubmz+wzvv+OTSQ894/5RI6GsCRkPC6zfq+vz0RHSOEkE9nfIUxtn/J5g5CiEOI6JdhGP6fbj+SmD+bzcpGK2+e+3oYhq90+uD7/uFCiFM9z/uag023GGZtbW2953nnMcZko70yn8//Uf7/bDb7P4yxXwohDsjn8+8mkRfdNn3f/4YQ4iYhxE/z+by8nFj81NXV7S6EuIwx9v3SfTy6XTE+/+TJk8dFUXSGrHUhxK1hGN4jneCcTyai24UQJ5cuKxn3TbfBgZx33dpWen4AR6UVtWg+3/flBiSb7INhGF4mXauvr1+/vb39acbYrUEQyDMBLn0ypacSyPf9i4nojEKhsGtTU9OrZdAhLy0c4eClhfLY95ZN1/O8n+ZyuX+Xxf6SEOKEMAznupT0adOmVXWeseKcn8IYkzdI/yAIAnkTZfHDOZdP65zhGmSXx57NZnf0PO+UQqFwQ1NT00tleX+OMXZBLpeb7VLey2MZaHlPax4BHGnNXPd+d96TsebeDM65BI0/h2H4fNnmewdj7CUXgMP3fXnmRt6j8K8gCHLl16k55zMZY6cS0ZFCiDwRfZmIzmKMbR8EwX/Tnvp1xe77/tgoipYzxjZpa2v7aNCgQQcT0TmFQmGHt95660MXYhdCDMlkMrMbGxsXlTde3/dPk3kWQlwqhJD3K01gjJ2fyWS2k2Ndi52I1sCmvJ8jiqLVVVVVW2YyGfkujl2EEL8QQuzgwpktzvmpra2tty1cuLC1lMc1N8O6nve0r1vpP4DDgSxyzo+KoujFpqYmeX9GJ2ysKcRNN910yNChQw+JouhDz/Pq5WacyWS2nzdvnmzCqf1wzh8lok0ZY0uEEF+Sl4ry+fxfy59G8H3/RCL6vhCiwBgbVigUTiw/45HW4NcRe/mZDnnD6G1EtFDeMFsoFL7nSOyPMcY2IqJl8gmk1tbWbWUD6gId3yWib8r7GOQ7OKIoOtPl2MuhQ96vRETXlNb2iCiKjnIh9vr6+uEdHR3yvTp3r1q16qQeoMPJvKd1n+rqN4Aj5ZnMZrMbeJ73GBHNZYxd3t27Jurr6we1t7f/log2YIxFQoifpP20Oud8OmPsyCAIdpYp9H3/fCHEoStWrPhi6S2Laxqv1IiIVg8ePDjzxhtvLE15yuXlgd5iX3OGq66ubqrneZ8wxpY3NDS8n/bYSwB5uMy77/t18l6kKIquEEL8t6mpSZ7NkE9iFT8TJ04cXF1dLTKZzCAX7tlRiX3LLbeUNw4v7+jo6HDhbJ78EiEf7e7o6JD3ZG1DRH+KoujgzpuDy79kuJb3tNdsuf8AjpRnswQc8jp9oxBiARFdVnrss/jERumV3p2v9WYTJ06smT9//qcpD7sIGBKggiA4RW42tbW1kzOZzEOe5+3a2Ni4pOzykXzLqmy0axrRAIu9xaXXunPOr5brOgzDM3zfv56ITpIv+JKvHBFCXLJixYrbJXBKGGlvb1/U3Nz8SdrzXbaWY8ceRVGLg0/kyLo/jTHWLISQT9ktCYLgf+QbRiVYyadwXMy7K+sXl1QcyKS8O71QKPwvEc0iIvnoZ6sQYmYZdMjHBeWp5Vfy+fxiB0IuhuD7/n5EdHIURfIyymJ5zwIRPSeE2LPzNe6c830YY9dVVVV9saGhQT4m6sRnIMdeevyzEIbhE/Ibf6FQeL6pqalBPpnked658n4dxtinQoi7q6qq/qehoeEjJ5L+/5+2kY++DsjYy6BL3pfVXlVVdXF7e/t/GGOrhBDreZ63d0dHx/qZTOYG1/LuyvoFcDiQSd/3N5ePvwZBcJ58PEzenS8vH3RCx9Zbbz26ra1NvvRnWtkLv1Ifeem06eTOR/1qa2u/lMlkHm9vb6+X32rlI7BRFC1gjC107UVfAzn2soVbPMVeentq8fKZfOEbYywMguBc+aZNF26S7KFQB2zspSdxjg6CYLrv+/JpLPka/8bOtykP1N+NSsuGjksqacnUOvws/1XQ0rf67xHRKsbYtfJV3tlstqbsWqcDEX8+BN/35fsH7gvDcPPSte4bC4XC1vLbr5MBlwU1kGMv/2VU+bI7xthbuVzuOlffqlm+lgdi7Jxz+QK7mUQkbw6/zPO8HwshrhZCvByGoXxizcm3J7uyhwE4XMlkWaFJ8iei4+XTCSNGjPjJnDlz5P0LTv9aprw5MoqinzHG5LsGLomi6Guuvuio65IdqLFPmjRpo6qqqrvkW2VLb1adjX822gAABodJREFUTkS7lR6Pdqeyu4lkoMZeeuLuz0KI7eSbg4Mg+L0841dVVTWh9JSe03lPe3AAjrRncG3/19C9fLNkJpNpyOVy8qZB5z91dXVbCyHkC62WR1E0baDAhkzsQI1dNp8hQ4bIb7Xyn/c8z7srl8u94fxil8+CD+DY5VuUhRAbhGH4pHwCr3RZbSCkPfUxAjhSn8LPBTAgTylOmTJlWGtr6y2MsUsHwjfc8qwP5NjdK19EpKBAZ//qfApP4VAMTUIBAEcSqsOmFgUG8redgRy7lsWESaEAFKi4AgCOikuKCaEAFIACUAAKQIGuCgA4sCagABSAAlAACkAB7QoAOLRLDANQAApAASgABaAAgANrAApAASgABaAAFNCuAIBDu8QwAAWgABSAAlAACgA4sAagABSAAlAACkAB7QoAOLRLDANQAApAASgABaAAgANrAAqkTAHO+RQimiNfXx+G4d2d7mez2ZGe570hhLg1DMNf6grL9/3ZQojZYRjKnwiP/eGczyeiC8t9jnuw7/vFOIMgOCruMZ3jOOfyGGl3ouqxGA8FoEDlFABwVE5LzAQFjCnAOb+MiH4ohKjL5/OLpWHf9+8UQmwzfvz4HWfPnt2hy5n6+vr1iaitoaFhhYoNAIeKWhgLBdxTAMDhXk4R0QBQQP5gVU1NjfzdkFeCIDg0m83uyxh7OJPJbNfY2PimjRIAOGzMCnyCAuYUAHCY0xqWoEBFFairq9tdCPEMER1IRDcIIW4Ow/DSuEZ83z9OCPETIpI/+b2MiH4fhuGpEydOrC7BzLNBEPywdPZkFhGNDYLgq77vP9t5SUVe3mGM3UxE2xLRR+vyoTfg6MkfIirISypCiFGMsQwR7SmECKIoOrqpqelV6d/WW289uq2tTWrwbcbYJ0T0QBRF5+Tz+dW4pBJ3RWAcFNCrAIBDr76YHQpoVYBzfgcRHUFEc1UupWSz2a96nvckER3KGHudiKYKIe4TQhwShuEszvnXGWNPFwqF7TOZzBeI6H8zmcyUefPm5cvv4eCcy1/ofZExdpW8qkNEj0RRdEA+n/9L18DXBRy9+VMCjiOJ6CLP8+6PokiC0NFCiIn5fH4Z5/wPRCSiKDqXMTbC87wbhRDPh2F4OoBD6xLE5FAgtgIAjthSYSAUsE+BbDZ7kLyUQkQ3hmF4clwP6+rqthNC1AZB8PvOY3zff4mIngyC4GL5/zjn9xHRRMbYRCHEtWEYSqiQ94qsuWnU9315NuFXpWOi2tranaIoam5ubv5ABTh686d006gfBMFOpXk93/fzURRdKYT4WyaTyVVVVa3XeV9JNpvdkTH23Pjx44e1tLQchptG464MjIMC+hQAcOjTFjNDAa0KTJo0aVR1dbW8X+MtItqViHYMguBfcY1ms9ktGWPfY4zVCyG2ZoxlhRC/6Hz6JJvNbuB5XpMQ4p0wDL8oL210BQ7O+cmMsV8T0WIhxJ+EEL/N5/PPdedDb5dU1uVPCTg+CYLgx2WA9AgRvRtF0d8YY48T0crOvzHGmBBiqIQqxpjUBk+pxF0YGAcFNCkA4NAkLKaFAroVKF1O2aWtrW1KTU3NH4UQG44fP367OE+o1NXV7SWEkJchfitvPGWMvRJF0U1E9EwncHDOv0xELzDG2iWU5HI5+VjrWmc4Sv+9OREdIISQN67uxhg7PpfL3al4hmOd/pQuqXwUhuEZnfNyzh9ljDUR0T+I6O5CoTC1q82ampoF7e3thwA4dK9GzA8FelcAwNG7RhgBBaxToAQMTwohdg/D8Pna2traTCYj38FxcZx3cPi+/7AQ4oMwDE+SwU2bNq2qpaVlARH9RgKH/O9FixbJd338Td5UKoQYHIbhPuXA0dbWNrOmpuZyxtjluVyupfS3W4QQm4VhuLcKcPTmTwk4Ng3DcI9OfxctWvQWY+yiQqHwMmOsgTE2KQiCt+XfOec7MMbOXL169WGDBg36PoDDuiUMhwagAgCOAZh0hJxuBUov+JKXUp4IguDEsm/8P2eMned53pTGxsZwXVH6vn8rEcmmfIS8+lAoFM6SN5AS0cwwDM/mnP+UiE73PE/eCDpGCDGPiI4KguDBLvdwvCqEeMvzvHOJaIS8pEJEs4IgkP+91qd0SeURxthfy//Q3t7+UnV19RXr8qd0SeVwIcR5jLFZQohTiWi/1tbW2oULF7b6vv+0EGK453mnCiE8IrqLiHJBEHwHN42me73De3cU+H8QvAoLYVoiSgAAAABJRU5ErkJggg==\" width=\"432\">"
      ],
      "text/plain": [
       "<IPython.core.display.HTML object>"
      ]
     },
     "metadata": {},
     "output_type": "display_data"
    },
    {
     "data": {
      "text/plain": [
       "<matplotlib.legend.Legend at 0x2092e5b4cf8>"
      ]
     },
     "execution_count": 33,
     "metadata": {},
     "output_type": "execute_result"
    }
   ],
   "source": [
    "# scatter plot example\n",
    "%matplotlib notebook \n",
    "\n",
    "plt.scatter(x, y, label = \"Dots\")\n",
    "plt.xlabel('X_axis Label')\n",
    "plt.ylabel('Y_axis Label')\n",
    "plt.title('Figure Title')\n",
    "plt.legend(loc = 0, frameon= True, title = \"Legend Title\")"
   ]
  },
  {
   "cell_type": "code",
   "execution_count": 34,
   "metadata": {
    "collapsed": false,
    "nbpresent": {
     "id": "a8fdd73c-fd79-49e6-85e1-2e29c65e3e5a"
    }
   },
   "outputs": [
    {
     "data": {
      "text/plain": [
       "[<matplotlib.collections.PathCollection at 0x2092e5aee48>,\n",
       " <matplotlib.spines.Spine at 0x2092e4d6be0>,\n",
       " <matplotlib.spines.Spine at 0x2092e4f6048>,\n",
       " <matplotlib.spines.Spine at 0x2092e4966d8>,\n",
       " <matplotlib.spines.Spine at 0x2092e496c18>,\n",
       " <matplotlib.axis.XAxis at 0x2092e4e1f98>,\n",
       " <matplotlib.axis.YAxis at 0x2092e576390>,\n",
       " <matplotlib.text.Text at 0x2092e58d630>,\n",
       " <matplotlib.text.Text at 0x2092e58d6a0>,\n",
       " <matplotlib.text.Text at 0x2092e58d710>,\n",
       " <matplotlib.legend.Legend at 0x2092e5b4cf8>,\n",
       " <matplotlib.patches.Rectangle at 0x2092e58d748>]"
      ]
     },
     "execution_count": 34,
     "metadata": {},
     "output_type": "execute_result"
    }
   ],
   "source": [
    "# Axis object\n",
    "ax = plt.gca() # gets current axis object\n",
    "ax.get_children() # returns all of the information about current axis"
   ]
  },
  {
   "cell_type": "markdown",
   "metadata": {
    "collapsed": true
   },
   "source": [
    "#### * From the get_children method you can see that the axis object has quite a few components*\n",
    "** Spines are the borders"
   ]
  },
  {
   "cell_type": "code",
   "execution_count": 35,
   "metadata": {
    "collapsed": false,
    "nbpresent": {
     "id": "2fd082e6-3e46-42dd-8b84-cdf440f41c08"
    }
   },
   "outputs": [],
   "source": [
    "# remove the border\n",
    "for spine in ax.spines.values():\n",
    "    spine.set_visible(False)"
   ]
  },
  {
   "cell_type": "code",
   "execution_count": 36,
   "metadata": {
    "collapsed": true,
    "nbpresent": {
     "id": "4e3ed928-3098-44c2-9227-67d280dac899"
    }
   },
   "outputs": [],
   "source": [
    "# change tick markes\n",
    "plt.tick_params(top='off', bottom = 'on', left = 'off', right = 'off', labelleft = 'off', labelbottom = 'on')"
   ]
  },
  {
   "cell_type": "code",
   "execution_count": 37,
   "metadata": {
    "collapsed": false
   },
   "outputs": [
    {
     "data": {
      "text/plain": [
       "(array([ 0.5,  1. ,  1.5,  2. ,  2.5,  3. ,  3.5,  4. ,  4.5]),\n",
       " <a list of 9 Text xticklabel objects>)"
      ]
     },
     "execution_count": 37,
     "metadata": {},
     "output_type": "execute_result"
    }
   ],
   "source": [
    "# not just off or on\n",
    "plt.xticks(rotation=45)"
   ]
  },
  {
   "cell_type": "markdown",
   "metadata": {},
   "source": [
    "#### *A little fancier data"
   ]
  },
  {
   "cell_type": "code",
   "execution_count": 38,
   "metadata": {
    "collapsed": true
   },
   "outputs": [],
   "source": [
    "%matplotlib inline\n",
    "import numpy as np\n",
    "x = np.linspace(0, 5, 10)\n",
    "y = x**2"
   ]
  },
  {
   "cell_type": "markdown",
   "metadata": {},
   "source": [
    "#### * LaTeX formatting is supported but you need to use raw strings *"
   ]
  },
  {
   "cell_type": "code",
   "execution_count": 39,
   "metadata": {
    "collapsed": false
   },
   "outputs": [
    {
     "data": {
      "text/plain": [
       "[<matplotlib.axis.YTick at 0x2092e5f6b00>,\n",
       " <matplotlib.axis.YTick at 0x2092e571c18>,\n",
       " <matplotlib.axis.YTick at 0x2092e6020f0>,\n",
       " <matplotlib.axis.YTick at 0x2092e666cc0>]"
      ]
     },
     "execution_count": 39,
     "metadata": {},
     "output_type": "execute_result"
    },
    {
     "data": {
      "image/png": "[encoded data removed]",
      "text/plain": [
       "<matplotlib.figure.Figure at 0x2092e5f2be0>"
      ]
     },
     "metadata": {},
     "output_type": "display_data"
    }
   ],
   "source": [
    "plt.plot(x, y, label='y = x**2', c = 'purple')\n",
    "plt.plot(x, 2 * x, label= 'y = 2x')\n",
    "plt.plot(x, 3 * x, label= 'y= 3x')\n",
    "plt.plot(x, 4 * x, label= 'y= 4x')\n",
    "plt.legend()\n",
    "\n",
    "# change x and y labels with LaTex\n",
    "ax = plt.gca()\n",
    "ax.set_xticks([1, 2, 3, 4, 5])\n",
    "ax.set_xticklabels([r'$\\alpha$', r'$\\beta$', r'$\\gamma$', r'$\\delta$', r'$\\epsilon$'], fontsize=18)\n",
    "yticks = [0, 10, 20, 25]\n",
    "ax.set_yticks(yticks)"
   ]
  },
  {
   "cell_type": "code",
   "execution_count": 40,
   "metadata": {
    "collapsed": false
   },
   "outputs": [
    {
     "data": {
      "text/plain": [
       "<matplotlib.text.Text at 0x2092e728be0>"
      ]
     },
     "execution_count": 40,
     "metadata": {},
     "output_type": "execute_result"
    },
    {
     "data": {
      "image/png": "[encoded data removed]",
      "text/plain": [
       "<matplotlib.figure.Figure at 0x2092e4e17b8>"
      ]
     },
     "metadata": {},
     "output_type": "display_data"
    }
   ],
   "source": [
    "# Creates a figure and one subplot\n",
    "fig, ax = plt.subplots()\n",
    "\n",
    "# both lines share x axis\n",
    "ax.plot(x, x**2, x, x**3)\n",
    "\n",
    "# direct label lines with text\n",
    "ax.text(4, 8, r\"$y=x^2$\", fontsize=20, color=\"blue\")\n",
    "ax.text(3, 80, r\"$y=x^3$\", fontsize=20, color=\"green\")"
   ]
  },
  {
   "cell_type": "code",
   "execution_count": 41,
   "metadata": {
    "collapsed": false
   },
   "outputs": [
    {
     "data": {
      "text/plain": [
       "<Container object of 3 artists>"
      ]
     },
     "execution_count": 41,
     "metadata": {},
     "output_type": "execute_result"
    },
    {
     "data": {
      "image/png": "[encoded data removed]",
      "text/plain": [
       "<matplotlib.figure.Figure at 0x2092e5f6828>"
      ]
     },
     "metadata": {},
     "output_type": "display_data"
    }
   ],
   "source": [
    "# errorbars\n",
    "dy = 2\n",
    "plt.bar(x,y)\n",
    "plt.errorbar(x, y, yerr = dy, fmt = 'none', c= 'k') # this plots ONLY error bars"
   ]
  },
  {
   "cell_type": "markdown",
   "metadata": {},
   "source": [
    "### * Multiple subplots *"
   ]
  },
  {
   "cell_type": "code",
   "execution_count": 42,
   "metadata": {
    "collapsed": false
   },
   "outputs": [
    {
     "data": {
      "image/png": "[encoded data removed]",
      "text/plain": [
       "<matplotlib.figure.Figure at 0x2092e6f0c88>"
      ]
     },
     "metadata": {},
     "output_type": "display_data"
    }
   ],
   "source": [
    "# figures in a gridF\n",
    "fig, ax = plt.subplots(2, 3)\n",
    "fig.tight_layout() # adjusts the spacing beween subplots so there is no overlap"
   ]
  },
  {
   "cell_type": "code",
   "execution_count": 43,
   "metadata": {
    "collapsed": false
   },
   "outputs": [
    {
     "data": {
      "image/png": "[encoded data removed]",
      "text/plain": [
       "<matplotlib.figure.Figure at 0x2092f837828>"
      ]
     },
     "metadata": {},
     "output_type": "display_data"
    }
   ],
   "source": [
    "# create multiple subplots in one figure\n",
    "fig = plt.figure()\n",
    "sub1 = plt.subplot2grid((3,3), (0,0), colspan=3)\n",
    "sub2 = plt.subplot2grid((3,3), (1,0), colspan=2)\n",
    "sub3 = plt.subplot2grid((3,3), (1,2), rowspan=2)\n",
    "sub4 = plt.subplot2grid((3,3), (2,0))\n",
    "sub5 = plt.subplot2grid((3,3), (2,1))\n",
    "fig.tight_layout()"
   ]
  },
  {
   "cell_type": "markdown",
   "metadata": {},
   "source": [
    "#### Gridspec\n",
    "This is so common there is a module that will help you"
   ]
  },
  {
   "cell_type": "code",
   "execution_count": 44,
   "metadata": {
    "collapsed": true
   },
   "outputs": [],
   "source": [
    "import matplotlib.gridspec as gridspec"
   ]
  },
  {
   "cell_type": "code",
   "execution_count": 46,
   "metadata": {
    "collapsed": false
   },
   "outputs": [
    {
     "data": {
      "image/png": "[encoded data removed]",
      "text/plain": [
       "<matplotlib.figure.Figure at 0x2092fc11438>"
      ]
     },
     "metadata": {},
     "output_type": "display_data"
    }
   ],
   "source": [
    "fig = plt.figure()\n",
    "gs = gridspec.GridSpec(2, 3, height_ratios=[2,1], width_ratios=[1,2,1])\n",
    "\n",
    "for g in gs:\n",
    "    fig.add_subplot(g)\n",
    "    \n",
    "    \n",
    "fig.tight_layout()   \n"
   ]
  },
  {
   "cell_type": "markdown",
   "metadata": {},
   "source": [
    "#### Inset plots"
   ]
  },
  {
   "cell_type": "code",
   "execution_count": 47,
   "metadata": {
    "collapsed": false
   },
   "outputs": [
    {
     "data": {
      "text/plain": [
       "<matplotlib.text.Text at 0x20930028a58>"
      ]
     },
     "execution_count": 47,
     "metadata": {},
     "output_type": "execute_result"
    },
    {
     "data": {
      "image/png": "[encoded data removed]",
      "text/plain": [
       "<matplotlib.figure.Figure at 0x2092ff957f0>"
      ]
     },
     "metadata": {},
     "output_type": "display_data"
    }
   ],
   "source": [
    "# make one figure\n",
    "fig = plt.figure()\n",
    "\n",
    "# create axis for two plots using fig.add_axes\n",
    "# fig.add_axes([x_coordinate, y_coordinate, y_axis size, x_axis size])\n",
    "rect1 = [0.1, 0.1, 0.8, 0.8] # [left,bottom,width,height] fraction of figure size\n",
    "rect2 = [0.2, 0.4, 0.2, 0.4]\n",
    "axes1 = fig.add_axes(rect1) # main axes\n",
    "axes2 = fig.add_axes(rect2) # inset axes\n",
    "\n",
    "# main figure\n",
    "axes1.plot(x, y, color = 'r')\n",
    "axes1.set_xlabel('x')\n",
    "axes1.set_ylabel('y')\n",
    "axes1.set_title('title')\n",
    "\n",
    "# insert\n",
    "axes2.plot(y, x, color = 'g')\n",
    "axes2.set_xlabel('y')\n",
    "axes2.set_ylabel('x')\n",
    "axes2.set_title('insert title')"
   ]
  },
  {
   "cell_type": "markdown",
   "metadata": {},
   "source": [
    "## Pandas Plotting Tools"
   ]
  },
  {
   "cell_type": "code",
   "execution_count": 48,
   "metadata": {
    "collapsed": false
   },
   "outputs": [
    {
     "data": {
      "text/html": [
       "<div>\n",
       "<style>\n",
       "    .dataframe thead tr:only-child th {\n",
       "        text-align: right;\n",
       "    }\n",
       "\n",
       "    .dataframe thead th {\n",
       "        text-align: left;\n",
       "    }\n",
       "\n",
       "    .dataframe tbody tr th {\n",
       "        vertical-align: top;\n",
       "    }\n",
       "</style>\n",
       "<table border=\"1\" class=\"dataframe\">\n",
       "  <thead>\n",
       "    <tr style=\"text-align: right;\">\n",
       "      <th></th>\n",
       "      <th>sepal_length</th>\n",
       "      <th>sepal_width</th>\n",
       "      <th>petal_length</th>\n",
       "      <th>petal_width</th>\n",
       "      <th>species</th>\n",
       "    </tr>\n",
       "  </thead>\n",
       "  <tbody>\n",
       "    <tr>\n",
       "      <th>0</th>\n",
       "      <td>5.1</td>\n",
       "      <td>3.5</td>\n",
       "      <td>1.4</td>\n",
       "      <td>0.2</td>\n",
       "      <td>setosa</td>\n",
       "    </tr>\n",
       "    <tr>\n",
       "      <th>1</th>\n",
       "      <td>4.9</td>\n",
       "      <td>3.0</td>\n",
       "      <td>1.4</td>\n",
       "      <td>0.2</td>\n",
       "      <td>setosa</td>\n",
       "    </tr>\n",
       "    <tr>\n",
       "      <th>2</th>\n",
       "      <td>4.7</td>\n",
       "      <td>3.2</td>\n",
       "      <td>1.3</td>\n",
       "      <td>0.2</td>\n",
       "      <td>setosa</td>\n",
       "    </tr>\n",
       "    <tr>\n",
       "      <th>3</th>\n",
       "      <td>4.6</td>\n",
       "      <td>3.1</td>\n",
       "      <td>1.5</td>\n",
       "      <td>0.2</td>\n",
       "      <td>setosa</td>\n",
       "    </tr>\n",
       "    <tr>\n",
       "      <th>4</th>\n",
       "      <td>5.0</td>\n",
       "      <td>3.6</td>\n",
       "      <td>1.4</td>\n",
       "      <td>0.2</td>\n",
       "      <td>setosa</td>\n",
       "    </tr>\n",
       "  </tbody>\n",
       "</table>\n",
       "</div>"
      ],
      "text/plain": [
       "   sepal_length  sepal_width  petal_length  petal_width species\n",
       "0           5.1          3.5           1.4          0.2  setosa\n",
       "1           4.9          3.0           1.4          0.2  setosa\n",
       "2           4.7          3.2           1.3          0.2  setosa\n",
       "3           4.6          3.1           1.5          0.2  setosa\n",
       "4           5.0          3.6           1.4          0.2  setosa"
      ]
     },
     "execution_count": 48,
     "metadata": {},
     "output_type": "execute_result"
    }
   ],
   "source": [
    "# I'm going to import the iris dataset to show off how matplotlib works with Pandas\n",
    "%matplotlib inline\n",
    "import seaborn as sns\n",
    "iris = sns.load_dataset('iris')\n",
    "iris.head()"
   ]
  },
  {
   "cell_type": "code",
   "execution_count": 49,
   "metadata": {
    "collapsed": false
   },
   "outputs": [
    {
     "data": {
      "text/plain": [
       "array([[<matplotlib.axes._subplots.AxesSubplot object at 0x000002092FF69DA0>,\n",
       "        <matplotlib.axes._subplots.AxesSubplot object at 0x00000209300C7E48>,\n",
       "        <matplotlib.axes._subplots.AxesSubplot object at 0x000002093007CD30>,\n",
       "        <matplotlib.axes._subplots.AxesSubplot object at 0x000002093015E588>],\n",
       "       [<matplotlib.axes._subplots.AxesSubplot object at 0x00000209301A4B38>,\n",
       "        <matplotlib.axes._subplots.AxesSubplot object at 0x00000209301FFBE0>,\n",
       "        <matplotlib.axes._subplots.AxesSubplot object at 0x000002093024BBA8>,\n",
       "        <matplotlib.axes._subplots.AxesSubplot object at 0x0000020930276F60>],\n",
       "       [<matplotlib.axes._subplots.AxesSubplot object at 0x00000209302E6518>,\n",
       "        <matplotlib.axes._subplots.AxesSubplot object at 0x00000209302F52E8>,\n",
       "        <matplotlib.axes._subplots.AxesSubplot object at 0x000002092FF95C88>,\n",
       "        <matplotlib.axes._subplots.AxesSubplot object at 0x000002092FE5BC88>],\n",
       "       [<matplotlib.axes._subplots.AxesSubplot object at 0x000002092FDF65F8>,\n",
       "        <matplotlib.axes._subplots.AxesSubplot object at 0x000002092FDA2A20>,\n",
       "        <matplotlib.axes._subplots.AxesSubplot object at 0x000002092F8FA9B0>,\n",
       "        <matplotlib.axes._subplots.AxesSubplot object at 0x000002092F88B6D8>]], dtype=object)"
      ]
     },
     "execution_count": 49,
     "metadata": {},
     "output_type": "execute_result"
    },
    {
     "data": {
      "image/png": "[encoded data removed]",
      "text/plain": [
       "<matplotlib.figure.Figure at 0x2092fd3c3c8>"
      ]
     },
     "metadata": {},
     "output_type": "display_data"
    }
   ],
   "source": [
    "# scatter_matirx will plot every column against each other for a great look at trends\n",
    "pd.plotting.scatter_matrix(iris)"
   ]
  },
  {
   "cell_type": "code",
   "execution_count": 50,
   "metadata": {
    "collapsed": false
   },
   "outputs": [
    {
     "data": {
      "text/plain": [
       "<matplotlib.axes._subplots.AxesSubplot at 0x2092feb44a8>"
      ]
     },
     "execution_count": 50,
     "metadata": {},
     "output_type": "execute_result"
    },
    {
     "data": {
      "image/png": "[encoded data removed]",
      "text/plain": [
       "<matplotlib.figure.Figure at 0x2092f848898>"
      ]
     },
     "metadata": {},
     "output_type": "display_data"
    }
   ],
   "source": [
    "# parrallel coordinate plot, each row is represented as one line, with the 'species' column a different color\n",
    "pd.plotting.parallel_coordinates(iris, 'species')"
   ]
  },
  {
   "cell_type": "markdown",
   "metadata": {},
   "source": [
    "## Seaborn\n",
    "Built on top of matplotlib so most mpl methods can be used\n",
    "The documentation is great: http://seaborn.pydata.org , these examples are all in the documentation!"
   ]
  },
  {
   "cell_type": "code",
   "execution_count": 51,
   "metadata": {
    "collapsed": true
   },
   "outputs": [],
   "source": [
    "import seaborn as sns"
   ]
  },
  {
   "cell_type": "code",
   "execution_count": 52,
   "metadata": {
    "collapsed": false
   },
   "outputs": [
    {
     "data": {
      "text/plain": [
       "<matplotlib.axes._subplots.AxesSubplot at 0x2092e801ac8>"
      ]
     },
     "execution_count": 52,
     "metadata": {},
     "output_type": "execute_result"
    },
    {
     "data": {
      "image/png": "[encoded data removed]",
      "text/plain": [
       "<matplotlib.figure.Figure at 0x209304666d8>"
      ]
     },
     "metadata": {},
     "output_type": "display_data"
    }
   ],
   "source": [
    "# kernal density estimate plot\n",
    "sns.kdeplot(iris.petal_width)"
   ]
  },
  {
   "cell_type": "code",
   "execution_count": 53,
   "metadata": {
    "collapsed": false
   },
   "outputs": [
    {
     "data": {
      "text/plain": [
       "<matplotlib.axes._subplots.AxesSubplot at 0x209304c46a0>"
      ]
     },
     "execution_count": 53,
     "metadata": {},
     "output_type": "execute_result"
    },
    {
     "data": {
      "image/png": "[encoded data removed]",
      "text/plain": [
       "<matplotlib.figure.Figure at 0x209304d4208>"
      ]
     },
     "metadata": {},
     "output_type": "display_data"
    }
   ],
   "source": [
    "# distribution with KDE\n",
    "sns.distplot(iris['petal_width'], hist_kws = {'color':'Teal'}, kde_kws = {'color':'Purple'})"
   ]
  },
  {
   "cell_type": "markdown",
   "metadata": {},
   "source": [
    "#### Joint Plots\n",
    "One figure that shows multiple types of plots"
   ]
  },
  {
   "cell_type": "code",
   "execution_count": 58,
   "metadata": {
    "collapsed": false
   },
   "outputs": [
    {
     "data": {
      "text/plain": [
       "<seaborn.axisgrid.JointGrid at 0x209317672b0>"
      ]
     },
     "execution_count": 58,
     "metadata": {},
     "output_type": "execute_result"
    },
    {
     "data": {
      "image/png": "[encoded data removed]",
      "text/plain": [
       "<matplotlib.figure.Figure at 0x209305c4978>"
      ]
     },
     "metadata": {},
     "output_type": "display_data"
    }
   ],
   "source": [
    "# Default: scatterplot and distributions\n",
    "sns.jointplot(x, x**2, alpha = 0.8).set_axis_labels(\"x\", \"y\")"
   ]
  },
  {
   "cell_type": "code",
   "execution_count": 65,
   "metadata": {
    "collapsed": false
   },
   "outputs": [
    {
     "data": {
      "text/plain": [
       "<seaborn.axisgrid.JointGrid at 0x20931f84fd0>"
      ]
     },
     "execution_count": 65,
     "metadata": {},
     "output_type": "execute_result"
    },
    {
     "data": {
      "image/png": "[encoded data removed]",
      "text/plain": [
       "<matplotlib.figure.Figure at 0x20931f84f98>"
      ]
     },
     "metadata": {},
     "output_type": "display_data"
    }
   ],
   "source": [
    "# works great with pandas dataframes\n",
    "sns.jointplot(\"petal_width\", \"sepal_width\", data=iris, size=5, ratio=4, color=\"purple\")"
   ]
  },
  {
   "cell_type": "code",
   "execution_count": 73,
   "metadata": {
    "collapsed": false
   },
   "outputs": [
    {
     "data": {
      "text/plain": [
       "<seaborn.axisgrid.JointGrid at 0x20934b5da20>"
      ]
     },
     "execution_count": 73,
     "metadata": {},
     "output_type": "execute_result"
    },
    {
     "data": {
      "image/png": "[encoded data removed]",
      "text/plain": [
       "<matplotlib.figure.Figure at 0x20934b5d780>"
      ]
     },
     "metadata": {},
     "output_type": "display_data"
    }
   ],
   "source": [
    "sns.jointplot(\"sepal_width\", \"petal_length\", data=iris, kind=\"kde\", space=0, color=\"g\")"
   ]
  },
  {
   "cell_type": "markdown",
   "metadata": {
    "nbpresent": {
     "id": "0ea3c836-3fcd-470d-a1c2-ebfea217d7b3"
    }
   },
   "source": [
    "## Creating Publishable Figures\n",
    "\n",
    "Thus far all figures have been created with the default backend Qt4Agg, but the backend can be changed for different output types"
   ]
  },
  {
   "cell_type": "code",
   "execution_count": null,
   "metadata": {
    "collapsed": false,
    "nbpresent": {
     "id": "72de5404-ab88-45a8-8e4e-1f83eeeec200"
    }
   },
   "outputs": [],
   "source": [
    "# This command will give you a list of all possible backends you can use\n",
    "print(mpl.rcsetup.all_backends)"
   ]
  },
  {
   "cell_type": "markdown",
   "metadata": {
    "nbpresent": {
     "id": "4b9eeb36-10cb-4961-9b60-1ba2302cbb8d"
    }
   },
   "source": [
    "Supported formats:\n",
    "PNG, JPG, EPS, SVG, PGF and PDF"
   ]
  },
  {
   "cell_type": "code",
   "execution_count": null,
   "metadata": {
    "collapsed": false
   },
   "outputs": [],
   "source": [
    "# Generating SVG with the svg backend\n",
    "#\n",
    "# RESTART THE NOTEBOOK: the matplotlib backend can only be selected before pyplot is imported\n",
    "import matplotlib\n",
    "matplotlib.use('svg')\n",
    "#import matplotlib.pyplot as plt\n",
    "#import numpy as np\n",
    "#from IPython.display import Image, SVG"
   ]
  },
  {
   "cell_type": "code",
   "execution_count": null,
   "metadata": {
    "collapsed": true
   },
   "outputs": [],
   "source": [
    "#switch to SVG figure rendering\n",
    "%config InlineBackend.figure_format='svg'"
   ]
  },
  {
   "cell_type": "code",
   "execution_count": null,
   "metadata": {
    "collapsed": true
   },
   "outputs": [],
   "source": [
    "# switch to higher resolution figures\n",
    "%config InlineBackend.figure_format='retina'"
   ]
  },
  {
   "cell_type": "code",
   "execution_count": null,
   "metadata": {
    "collapsed": false
   },
   "outputs": [],
   "source": [
    "fig, ax = plt.subplots()\n",
    "t = numpy.linspace(0, 10, 100)\n",
    "ax.plot(t, numpy.cos(t)*numpy.sin(t))\n"
   ]
  },
  {
   "cell_type": "code",
   "execution_count": null,
   "metadata": {
    "collapsed": false
   },
   "outputs": [],
   "source": [
    "plt.savefig(\"test.svg\", dpi = 300)"
   ]
  },
  {
   "cell_type": "code",
   "execution_count": null,
   "metadata": {
    "collapsed": false
   },
   "outputs": [],
   "source": [
    "# Show the produced SVG file. \n",
    "SVG(filename=\"test.svg\")"
   ]
  },
  {
   "cell_type": "code",
   "execution_count": null,
   "metadata": {
    "collapsed": true,
    "nbpresent": {
     "id": "5d23ae02-adbb-46fb-8c80-cd90f88dee81"
    }
   },
   "outputs": [],
   "source": [
    "# To go back to default Remember: you need to restart the notebook\n",
    "import matplotlib\n",
    "matplotlib.use('agg')"
   ]
  },
  {
   "cell_type": "markdown",
   "metadata": {
    "collapsed": true
   },
   "source": [
    "# This is just a taste of what is possible.  Go forth and Plot!"
   ]
  }
 ],
 "metadata": {
  "anaconda-cloud": {},
  "kernelspec": {
   "display_name": "Python [conda env:py35]",
   "language": "python",
   "name": "conda-env-py35-py"
  },
  "language_info": {
   "codemirror_mode": {
    "name": "ipython",
    "version": 3
   },
   "file_extension": ".py",
   "mimetype": "text/x-python",
   "name": "python",
   "nbconvert_exporter": "python",
   "pygments_lexer": "ipython3",
   "version": "3.5.3"
  },
  "nbpresent": {
   "slides": {
    "4b2a3daf-b0a1-4725-a0d9-8b476c44df1e": {
     "id": "4b2a3daf-b0a1-4725-a0d9-8b476c44df1e",
     "prev": null,
     "regions": {
      "e0293f39-5c67-4014-a72a-4b99810d03a2": {
       "attrs": {
        "height": 1,
        "width": 1,
        "x": 0,
        "y": 0
       },
       "id": "e0293f39-5c67-4014-a72a-4b99810d03a2"
      }
     }
    }
   },
   "themes": {}
  }
 },
 "nbformat": 4,
 "nbformat_minor": 2
}
